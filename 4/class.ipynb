{
 "cells": [
  {
   "cell_type": "markdown",
   "metadata": {},
   "source": [
    "## 1. A Basic Neural Network Model\n",
    "\n",
    "At its core, the deep learning system is a rather complex mathematical function that maps inputs to outputs.\n",
    "\n",
    "<img src=\"https://github.com/ch00226855/temp/blob/e4b3b9404122e50dd367f859b43a6dc984b59cec/.ipynb_checkpoints/Screenshot%20from%202024-02-05%2009-20-01.png?raw=true\" width=300>\n",
    "\n",
    "Deep Learning is supported by a type of machine learning models called **artificial neural network**. An artificial neural network consists of many **artifical neurons**.\n",
    "\n",
    "A typical artificial neurons is created with the following components:\n",
    "- **Input channels**: where the neuron gets information\n",
    "- **Weight parameters**: Each input value will be multiplied by a corresponding weight parameter before being considered by the activation function.\n",
    "- **Biase parameter**: a constant value added to the weighted sum of inputs.\n",
    "- **Activation function**: a non-linear function that generates the output of a neuron.\n",
    "\n",
    "<img src=\"https://www.simplilearn.com/ice9/free_resources_article_thumb/Perceptron/general-diagram-of-perceptron-for-supervised-learning_4.jpg\" height=300>\n",
    "\n",
    "If we create a network with at least three layers of artifical neurons, this machine learning model is called a **deep neural network**.\n",
    "\n",
    "<img src=\"https://qph.cf2.quoracdn.net/main-qimg-a1efd90fe8d2146d2dcaa629385056ff\" width=300>\n",
    "\n",
    "For each layer:\n",
    "- The weight parameters are organized as a **weight matrix**.\n",
    "- The biase parameters are organized as a **biase vector**.\n",
    "- The output values are also organized as a vector.\n",
    "\n",
    "To implements these computations, the computer often need to work with arrays of dimension 2, 3, or even higher. These arrays are called **tensors**. **PyTorch** is a framework that supports fast tensor computations.\n",
    "\n",
    "<img src=\"https://miro.medium.com/v2/resize:fit:500/1*MQIAAntN5tYgKEDNTcpZmg.png\" width=300>"
   ]
  },
  {
   "cell_type": "markdown",
   "metadata": {},
   "source": [
    "## 2. A Deep Learning Playground\n",
    "\n",
    "Before creating a deep learning model on our own, let's gain some intuition of how it works from the [deep learning playground](https://playground.tensorflow.org/\n",
    ")\n",
    "\n",
    "<img src=\"https://human-centered.ai/wordpress/wp-content/uploads/2016/04/Deep-learning.png\" width=200>"
   ]
  },
  {
   "cell_type": "markdown",
   "metadata": {},
   "source": [
    "## 3. PyTorch for Deep Learning\n",
    "\n",
    "**PyTorch** is a Python library that facilitaes building deep learning projects.\n",
    "- PyTorch is easy to use. One can test and manipulate various model components before the entire model is built.\n",
    "- PyTorch is fast. Most of PyTorch is written in C++ and CUDA. It supports fast tensor computations, which is the most time-consuming part of a deep learning project.\n",
    "- PyTorch can accelerate computation using graphical processing unites (GPUs). GPUs can do computation 50x faster than CPUs with a similar price."
   ]
  },
  {
   "cell_type": "code",
   "execution_count": 1,
   "metadata": {},
   "outputs": [],
   "source": [
    "import torch"
   ]
  },
  {
   "cell_type": "code",
   "execution_count": 2,
   "metadata": {},
   "outputs": [
    {
     "data": {
      "text/plain": [
       "'2.6.0'"
      ]
     },
     "execution_count": 2,
     "metadata": {},
     "output_type": "execute_result"
    }
   ],
   "source": [
    "torch.__version__"
   ]
  },
  {
   "cell_type": "code",
   "execution_count": 3,
   "metadata": {},
   "outputs": [
    {
     "data": {
      "text/plain": [
       "False"
      ]
     },
     "execution_count": 3,
     "metadata": {},
     "output_type": "execute_result"
    }
   ],
   "source": [
    "torch.cuda.is_available()"
   ]
  },
  {
   "cell_type": "code",
   "execution_count": 4,
   "metadata": {},
   "outputs": [
    {
     "name": "stdout",
     "output_type": "stream",
     "text": [
      "tensor([[1.0000, 2.0000, 3.0000],\n",
      "        [4.0000, 5.0000, 6.0000],\n",
      "        [7.0000, 8.0000, 9.1200]])\n"
     ]
    }
   ],
   "source": [
    "# Create a tensor directly from data.\n",
    "data = [[1, 2, 3],\n",
    "        [4, 5, 6],\n",
    "        [7, 8, 9.12]]\n",
    "data_tensor = torch.tensor(data)\n",
    "print(data_tensor)"
   ]
  },
  {
   "cell_type": "code",
   "execution_count": 5,
   "metadata": {},
   "outputs": [
    {
     "name": "stdout",
     "output_type": "stream",
     "text": [
      "Shape of tensor: torch.Size([3, 3])\n",
      "Datatype of tensor: torch.float32\n",
      "Device the tensor is stored on: cpu\n"
     ]
    }
   ],
   "source": [
    "# Attributes of a tensor\n",
    "print(\"Shape of tensor:\", data_tensor.shape)\n",
    "print(\"Datatype of tensor:\", data_tensor.dtype)\n",
    "print(\"Device the tensor is stored on:\", data_tensor.device)"
   ]
  },
  {
   "cell_type": "code",
   "execution_count": 6,
   "metadata": {},
   "outputs": [
    {
     "data": {
      "text/plain": [
       "tensor([[ 30.0000,  36.0000,  42.3600],\n",
       "        [ 66.0000,  81.0000,  96.7200],\n",
       "        [102.8400, 126.9600, 152.1744]])"
      ]
     },
     "execution_count": 6,
     "metadata": {},
     "output_type": "execute_result"
    }
   ],
   "source": [
    "# Matrix addition and multiplication\n",
    "# data_tensor + data_tensor\n",
    "# data_tensor * data_tensor\n",
    "data_tensor @ data_tensor"
   ]
  },
  {
   "cell_type": "markdown",
   "metadata": {},
   "source": [
    "## 4. MNIST Image Classification\n",
    "\n",
    "The MNIST database (Modified National Institute of Standards and Technology database) is a large collection of handwritten digits. It has a training set of 60,000 examples, and a test set of 10,000 examples.\n",
    "\n",
    "<img src=\"https://upload.wikimedia.org/wikipedia/commons/f/f7/MnistExamplesModified.png\" width=300>\n",
    "\n",
    "Let's create a deep neural network model that can be used to identify these images.\n",
    "\n",
    "*Reference*: [PyTorch quickstart](https://pytorch.org/tutorials/beginner/basics/quickstart_tutorial.html)"
   ]
  },
  {
   "cell_type": "code",
   "execution_count": 9,
   "metadata": {},
   "outputs": [],
   "source": [
    "import torch\n",
    "from torch import nn\n",
    "from torch.utils.data import DataLoader\n",
    "from torchvision import datasets\n",
    "from torchvision.transforms import ToTensor"
   ]
  },
  {
   "cell_type": "markdown",
   "metadata": {},
   "source": [
    "### Loading Data"
   ]
  },
  {
   "cell_type": "code",
   "execution_count": 10,
   "metadata": {},
   "outputs": [
    {
     "name": "stderr",
     "output_type": "stream",
     "text": [
      "100.0%\n",
      "100.0%\n",
      "100.0%\n",
      "100.0%\n"
     ]
    }
   ],
   "source": [
    "# Download training data from open datasets.\n",
    "training_data = datasets.MNIST(\n",
    "    root=\"data\",\n",
    "    train=True,\n",
    "    download=True,\n",
    "    transform=ToTensor(),\n",
    ")\n",
    "\n",
    "# Download test data from open datasets.\n",
    "test_data = datasets.MNIST(\n",
    "    root=\"data\",\n",
    "    train=False,\n",
    "    download=True,\n",
    "    transform=ToTensor(),\n",
    ")"
   ]
  },
  {
   "cell_type": "code",
   "execution_count": 23,
   "metadata": {},
   "outputs": [
    {
     "name": "stdout",
     "output_type": "stream",
     "text": [
      "Shape: torch.Size([60000, 28, 28])\n",
      "Data Type: torch.uint8\n",
      "Device: cpu\n"
     ]
    },
    {
     "data": {
      "text/plain": [
       "tensor([[  0,   0,   0,   0,   0,   0,   0,   0,   0,   0,   0,   0,   0,   0,   0,   0,   0,   0,   0,   0,   0,   0,   0,   0,   0,   0,   0,   0],\n",
       "        [  0,   0,   0,   0,   0,   0,   0,   0,   0,   0,   0,   0,   0,   0,   0,   0,   0,   0,   0,   0,   0,   0,   0,   0,   0,   0,   0,   0],\n",
       "        [  0,   0,   0,   0,   0,   0,   0,   0,   0,   0,   0,   0,   0,   0,   0,   0,   0,   0,   0,   0,   0,   0,   0,   0,   0,   0,   0,   0],\n",
       "        [  0,   0,   0,   0,   0,   0,   0,   0,   0,   0,   0,   0,   0,   0,   0,   0,   0,   0,   0,   0,   0,   0,   0,   0,   0,   0,   0,   0],\n",
       "        [  0,   0,   0,   0,   0,   0,   0,   0,   0,   0,   0,   0,   0,   0,   0,   0,   0,   0,   0,   0,   0,   0,   0,   0,   0,   0,   0,   0],\n",
       "        [  0,   0,   0,   0,   0,   0,   0,   0,   0,   0,   0,   0,   0,   0,   0,   0,   0,   0,   0,   0,  67, 232,  39,   0,   0,   0,   0,   0],\n",
       "        [  0,   0,   0,   0,  62,  81,   0,   0,   0,   0,   0,   0,   0,   0,   0,   0,   0,   0,   0,   0, 120, 180,  39,   0,   0,   0,   0,   0],\n",
       "        [  0,   0,   0,   0, 126, 163,   0,   0,   0,   0,   0,   0,   0,   0,   0,   0,   0,   0,   0,   2, 153, 210,  40,   0,   0,   0,   0,   0],\n",
       "        [  0,   0,   0,   0, 220, 163,   0,   0,   0,   0,   0,   0,   0,   0,   0,   0,   0,   0,   0,  27, 254, 162,   0,   0,   0,   0,   0,   0],\n",
       "        [  0,   0,   0,   0, 222, 163,   0,   0,   0,   0,   0,   0,   0,   0,   0,   0,   0,   0,   0, 183, 254, 125,   0,   0,   0,   0,   0,   0],\n",
       "        [  0,   0,   0,  46, 245, 163,   0,   0,   0,   0,   0,   0,   0,   0,   0,   0,   0,   0,   0, 198, 254,  56,   0,   0,   0,   0,   0,   0],\n",
       "        [  0,   0,   0, 120, 254, 163,   0,   0,   0,   0,   0,   0,   0,   0,   0,   0,   0,   0,  23, 231, 254,  29,   0,   0,   0,   0,   0,   0],\n",
       "        [  0,   0,   0, 159, 254, 120,   0,   0,   0,   0,   0,   0,   0,   0,   0,   0,   0,   0, 163, 254, 216,  16,   0,   0,   0,   0,   0,   0],\n",
       "        [  0,   0,   0, 159, 254,  67,   0,   0,   0,   0,   0,   0,   0,   0,   0,  14,  86, 178, 248, 254,  91,   0,   0,   0,   0,   0,   0,   0],\n",
       "        [  0,   0,   0, 159, 254,  85,   0,   0,   0,  47,  49, 116, 144, 150, 241, 243, 234, 179, 241, 252,  40,   0,   0,   0,   0,   0,   0,   0],\n",
       "        [  0,   0,   0, 150, 253, 237, 207, 207, 207, 253, 254, 250, 240, 198, 143,  91,  28,   5, 233, 250,   0,   0,   0,   0,   0,   0,   0,   0],\n",
       "        [  0,   0,   0,   0, 119, 177, 177, 177, 177, 177,  98,  56,   0,   0,   0,   0,   0, 102, 254, 220,   0,   0,   0,   0,   0,   0,   0,   0],\n",
       "        [  0,   0,   0,   0,   0,   0,   0,   0,   0,   0,   0,   0,   0,   0,   0,   0,   0, 169, 254, 137,   0,   0,   0,   0,   0,   0,   0,   0],\n",
       "        [  0,   0,   0,   0,   0,   0,   0,   0,   0,   0,   0,   0,   0,   0,   0,   0,   0, 169, 254,  57,   0,   0,   0,   0,   0,   0,   0,   0],\n",
       "        [  0,   0,   0,   0,   0,   0,   0,   0,   0,   0,   0,   0,   0,   0,   0,   0,   0, 169, 254,  57,   0,   0,   0,   0,   0,   0,   0,   0],\n",
       "        [  0,   0,   0,   0,   0,   0,   0,   0,   0,   0,   0,   0,   0,   0,   0,   0,   0, 169, 255,  94,   0,   0,   0,   0,   0,   0,   0,   0],\n",
       "        [  0,   0,   0,   0,   0,   0,   0,   0,   0,   0,   0,   0,   0,   0,   0,   0,   0, 169, 254,  96,   0,   0,   0,   0,   0,   0,   0,   0],\n",
       "        [  0,   0,   0,   0,   0,   0,   0,   0,   0,   0,   0,   0,   0,   0,   0,   0,   0, 169, 254, 153,   0,   0,   0,   0,   0,   0,   0,   0],\n",
       "        [  0,   0,   0,   0,   0,   0,   0,   0,   0,   0,   0,   0,   0,   0,   0,   0,   0, 169, 255, 153,   0,   0,   0,   0,   0,   0,   0,   0],\n",
       "        [  0,   0,   0,   0,   0,   0,   0,   0,   0,   0,   0,   0,   0,   0,   0,   0,   0,  96, 254, 153,   0,   0,   0,   0,   0,   0,   0,   0],\n",
       "        [  0,   0,   0,   0,   0,   0,   0,   0,   0,   0,   0,   0,   0,   0,   0,   0,   0,   0,   0,   0,   0,   0,   0,   0,   0,   0,   0,   0],\n",
       "        [  0,   0,   0,   0,   0,   0,   0,   0,   0,   0,   0,   0,   0,   0,   0,   0,   0,   0,   0,   0,   0,   0,   0,   0,   0,   0,   0,   0],\n",
       "        [  0,   0,   0,   0,   0,   0,   0,   0,   0,   0,   0,   0,   0,   0,   0,   0,   0,   0,   0,   0,   0,   0,   0,   0,   0,   0,   0,   0]], dtype=torch.uint8)"
      ]
     },
     "execution_count": 23,
     "metadata": {},
     "output_type": "execute_result"
    }
   ],
   "source": [
    "torch.set_printoptions(linewidth=200)  # Adjust the linewidth as needed\n",
    "print(\"Shape:\", training_data.data.shape)\n",
    "print(\"Data Type:\", training_data.data.dtype)\n",
    "print(\"Device:\", training_data.data.device)\n",
    "training_data.data[2] # Zoom out to see the shape of the digit"
   ]
  },
  {
   "cell_type": "code",
   "execution_count": 12,
   "metadata": {},
   "outputs": [
    {
     "name": "stdout",
     "output_type": "stream",
     "text": [
      "Total number of values contained in the training data set: 47040000\n"
     ]
    }
   ],
   "source": [
    "print(\"Total number of values contained in the training data set:\", 60000 * 28 * 28)"
   ]
  },
  {
   "cell_type": "code",
   "execution_count": 57,
   "metadata": {},
   "outputs": [
    {
     "name": "stdout",
     "output_type": "stream",
     "text": [
      "Shape: torch.Size([60000])\n"
     ]
    },
    {
     "data": {
      "text/plain": [
       "tensor([4, 1, 4, 1, 6, 7, 6, 8, 0, 9])"
      ]
     },
     "execution_count": 57,
     "metadata": {},
     "output_type": "execute_result"
    }
   ],
   "source": [
    "print(\"Shape:\", training_data.targets.shape)\n",
    "training_data.targets[0:10]"
   ]
  },
  {
   "cell_type": "code",
   "execution_count": 24,
   "metadata": {},
   "outputs": [
    {
     "name": "stdout",
     "output_type": "stream",
     "text": [
      "Label: tensor(4)\n"
     ]
    },
    {
     "data": {
      "image/png": "[encoded data removed]",
      "text/plain": [
       "<Figure size 640x480 with 1 Axes>"
      ]
     },
     "metadata": {},
     "output_type": "display_data"
    }
   ],
   "source": [
    "import matplotlib.pyplot as plt\n",
    "idx = 2\n",
    "plt.imshow(training_data.data[idx, :, :], cmap='gray') # \":\" represents \"0:28\"\n",
    "print(\"Label:\", training_data.targets[idx])"
   ]
  },
  {
   "cell_type": "code",
   "execution_count": 15,
   "metadata": {},
   "outputs": [
    {
     "name": "stdout",
     "output_type": "stream",
     "text": [
      "Shape of X [N, C, H, W]: torch.Size([64, 1, 28, 28])\n",
      "Shape of y: torch.Size([64]) torch.int64\n"
     ]
    }
   ],
   "source": [
    "batch_size = 64\n",
    "\n",
    "# Create data loaders.\n",
    "train_dataloader = DataLoader(training_data, batch_size=batch_size)\n",
    "test_dataloader = DataLoader(test_data, batch_size=batch_size)\n",
    "\n",
    "for X, y in test_dataloader:\n",
    "    print(f\"Shape of X [N, C, H, W]: {X.shape}\")\n",
    "    print(f\"Shape of y: {y.shape} {y.dtype}\")\n",
    "    break"
   ]
  },
  {
   "cell_type": "code",
   "execution_count": 16,
   "metadata": {},
   "outputs": [
    {
     "name": "stdout",
     "output_type": "stream",
     "text": [
      "Using mps device\n"
     ]
    }
   ],
   "source": [
    "# Get cpu, gpu or mps device for training.\n",
    "device = (\n",
    "    \"cuda\"\n",
    "    if torch.cuda.is_available()\n",
    "    else \"mps\"\n",
    "    if torch.backends.mps.is_available()\n",
    "    else \"cpu\"\n",
    ")\n",
    "print(f\"Using {device} device\")"
   ]
  },
  {
   "cell_type": "code",
   "execution_count": 17,
   "metadata": {},
   "outputs": [
    {
     "name": "stdout",
     "output_type": "stream",
     "text": [
      "NeuralNetwork(\n",
      "  (flatten): Flatten(start_dim=1, end_dim=-1)\n",
      "  (linear_relu_stack): Sequential(\n",
      "    (0): Linear(in_features=784, out_features=512, bias=True)\n",
      "    (1): ReLU()\n",
      "    (2): Linear(in_features=512, out_features=512, bias=True)\n",
      "    (3): ReLU()\n",
      "    (4): Linear(in_features=512, out_features=10, bias=True)\n",
      "  )\n",
      ")\n"
     ]
    }
   ],
   "source": [
    "# Define model\n",
    "class NeuralNetwork(nn.Module): # Build the new class by extending the Module class\n",
    "    def __init__(self):\n",
    "        super().__init__()\n",
    "        self.flatten = nn.Flatten() # This is the input layer that can flatten the input 2D array\n",
    "        self.linear_relu_stack = nn.Sequential(\n",
    "            nn.Linear(28*28, 512), # This represents the weighted summation of the first hidden layer\n",
    "            nn.ReLU(),             # This is the activation function for the first hidden layer\n",
    "            nn.Linear(512, 512),   # Another dense layer\n",
    "            nn.ReLU(),\n",
    "            nn.Linear(512, 10)     # The output layer.\n",
    "        )                          # It has only 10 nodes because we need 10\n",
    "                                   # probabilities for the prediction.\n",
    "\n",
    "    def forward(self, x):   # Specifies how the model produces the outcome\n",
    "        x = self.flatten(x)\n",
    "        logits = self.linear_relu_stack(x)\n",
    "        return logits\n",
    "\n",
    "model = NeuralNetwork().to(device)\n",
    "print(model)"
   ]
  },
  {
   "cell_type": "markdown",
   "metadata": {},
   "source": [
    "### Optimizing Model Parameters\n",
    "\n",
    "To train a model, we need a loss function and an optimizer.\n",
    "- The **loss function** is to evaluate the current performance of the model on the training data. Smaller losses indicate better performances.\n",
    "- The **optimizer** suggests parameter modifications so that the model's performance may get improved."
   ]
  },
  {
   "cell_type": "code",
   "execution_count": 19,
   "metadata": {},
   "outputs": [],
   "source": [
    "loss_fn = nn.CrossEntropyLoss()\n",
    "optimizer = torch.optim.SGD(model.parameters(), lr=1e-3)"
   ]
  },
  {
   "cell_type": "code",
   "execution_count": 20,
   "metadata": {},
   "outputs": [],
   "source": [
    "def train(dataloader, model, loss_fn, optimizer):\n",
    "    size = len(dataloader.dataset)\n",
    "    model.train()  # Turn on the training mode\n",
    "    for batch, (X, y) in enumerate(dataloader):\n",
    "        X, y = X.to(device), y.to(device)\n",
    "\n",
    "        # Compute prediction error\n",
    "        pred = model(X)\n",
    "        loss = loss_fn(pred, y)\n",
    "\n",
    "        # Backpropagation\n",
    "        loss.backward()  # Compute the gradient of the loss\n",
    "        optimizer.step() # Use the gradient to update the parameters\n",
    "        optimizer.zero_grad() # Reset the gradient vector\n",
    "\n",
    "        if batch % 100 == 0:\n",
    "            loss, current = loss.item(), (batch + 1) * len(X)\n",
    "            print(f\"loss: {loss:>7f}  [{current:>5d}/{size:>5d}]\")"
   ]
  },
  {
   "cell_type": "code",
   "execution_count": 25,
   "metadata": {},
   "outputs": [
    {
     "name": "stdout",
     "output_type": "stream",
     "text": [
      "Epoch 1\n",
      "-------------------------------\n",
      "loss: 0.514898  [   64/60000]\n",
      "loss: 0.399059  [ 6464/60000]\n",
      "loss: 0.458957  [12864/60000]\n",
      "loss: 0.464469  [19264/60000]\n",
      "loss: 0.419976  [25664/60000]\n",
      "loss: 0.451917  [32064/60000]\n",
      "loss: 0.354057  [38464/60000]\n",
      "loss: 0.545254  [44864/60000]\n",
      "loss: 0.506659  [51264/60000]\n",
      "loss: 0.522371  [57664/60000]\n",
      "Epoch 2\n",
      "-------------------------------\n",
      "loss: 0.491484  [   64/60000]\n",
      "loss: 0.379931  [ 6464/60000]\n",
      "loss: 0.435324  [12864/60000]\n",
      "loss: 0.450012  [19264/60000]\n",
      "loss: 0.400308  [25664/60000]\n",
      "loss: 0.438756  [32064/60000]\n",
      "loss: 0.336324  [38464/60000]\n",
      "loss: 0.527347  [44864/60000]\n",
      "loss: 0.487801  [51264/60000]\n",
      "loss: 0.511787  [57664/60000]\n",
      "Epoch 3\n",
      "-------------------------------\n",
      "loss: 0.471098  [   64/60000]\n",
      "loss: 0.364136  [ 6464/60000]\n",
      "loss: 0.414752  [12864/60000]\n",
      "loss: 0.437766  [19264/60000]\n",
      "loss: 0.383529  [25664/60000]\n",
      "loss: 0.427789  [32064/60000]\n",
      "loss: 0.321309  [38464/60000]\n",
      "loss: 0.512010  [44864/60000]\n",
      "loss: 0.471649  [51264/60000]\n",
      "loss: 0.502962  [57664/60000]\n",
      "Epoch 4\n",
      "-------------------------------\n",
      "loss: 0.453056  [   64/60000]\n",
      "loss: 0.351010  [ 6464/60000]\n",
      "loss: 0.396602  [12864/60000]\n",
      "loss: 0.427263  [19264/60000]\n",
      "loss: 0.369115  [25664/60000]\n",
      "loss: 0.418448  [32064/60000]\n",
      "loss: 0.308427  [38464/60000]\n",
      "loss: 0.498654  [44864/60000]\n",
      "loss: 0.457630  [51264/60000]\n",
      "loss: 0.495458  [57664/60000]\n",
      "Epoch 5\n",
      "-------------------------------\n",
      "loss: 0.436860  [   64/60000]\n",
      "loss: 0.340009  [ 6464/60000]\n",
      "loss: 0.380376  [12864/60000]\n",
      "loss: 0.418124  [19264/60000]\n",
      "loss: 0.356569  [25664/60000]\n",
      "loss: 0.410303  [32064/60000]\n",
      "loss: 0.297212  [38464/60000]\n",
      "loss: 0.486845  [44864/60000]\n",
      "loss: 0.445307  [51264/60000]\n",
      "loss: 0.489028  [57664/60000]\n",
      "Epoch 6\n",
      "-------------------------------\n",
      "loss: 0.422199  [   64/60000]\n",
      "loss: 0.330721  [ 6464/60000]\n",
      "loss: 0.365738  [12864/60000]\n",
      "loss: 0.410078  [19264/60000]\n",
      "loss: 0.345583  [25664/60000]\n",
      "loss: 0.403094  [32064/60000]\n",
      "loss: 0.287317  [38464/60000]\n",
      "loss: 0.476262  [44864/60000]\n",
      "loss: 0.434346  [51264/60000]\n",
      "loss: 0.483414  [57664/60000]\n",
      "Epoch 7\n",
      "-------------------------------\n",
      "loss: 0.408808  [   64/60000]\n",
      "loss: 0.322898  [ 6464/60000]\n",
      "loss: 0.352437  [12864/60000]\n",
      "loss: 0.403036  [19264/60000]\n",
      "loss: 0.335822  [25664/60000]\n",
      "loss: 0.396595  [32064/60000]\n",
      "loss: 0.278540  [38464/60000]\n",
      "loss: 0.466713  [44864/60000]\n",
      "loss: 0.424478  [51264/60000]\n",
      "loss: 0.478421  [57664/60000]\n",
      "Epoch 8\n",
      "-------------------------------\n",
      "loss: 0.396489  [   64/60000]\n",
      "loss: 0.316237  [ 6464/60000]\n",
      "loss: 0.340252  [12864/60000]\n",
      "loss: 0.396758  [19264/60000]\n",
      "loss: 0.327031  [25664/60000]\n",
      "loss: 0.390720  [32064/60000]\n",
      "loss: 0.270687  [38464/60000]\n",
      "loss: 0.457989  [44864/60000]\n",
      "loss: 0.415555  [51264/60000]\n",
      "loss: 0.473956  [57664/60000]\n",
      "Epoch 9\n",
      "-------------------------------\n",
      "loss: 0.385093  [   64/60000]\n",
      "loss: 0.310551  [ 6464/60000]\n",
      "loss: 0.329023  [12864/60000]\n",
      "loss: 0.391106  [19264/60000]\n",
      "loss: 0.319065  [25664/60000]\n",
      "loss: 0.385317  [32064/60000]\n",
      "loss: 0.263653  [38464/60000]\n",
      "loss: 0.449947  [44864/60000]\n",
      "loss: 0.407448  [51264/60000]\n",
      "loss: 0.469902  [57664/60000]\n",
      "Epoch 10\n",
      "-------------------------------\n",
      "loss: 0.374514  [   64/60000]\n",
      "loss: 0.305623  [ 6464/60000]\n",
      "loss: 0.318630  [12864/60000]\n",
      "loss: 0.386012  [19264/60000]\n",
      "loss: 0.311787  [25664/60000]\n",
      "loss: 0.380354  [32064/60000]\n",
      "loss: 0.257311  [38464/60000]\n",
      "loss: 0.442522  [44864/60000]\n",
      "loss: 0.399981  [51264/60000]\n",
      "loss: 0.466211  [57664/60000]\n",
      "Epoch 11\n",
      "-------------------------------\n",
      "loss: 0.364649  [   64/60000]\n",
      "loss: 0.301349  [ 6464/60000]\n",
      "loss: 0.308969  [12864/60000]\n",
      "loss: 0.381400  [19264/60000]\n",
      "loss: 0.305126  [25664/60000]\n",
      "loss: 0.375739  [32064/60000]\n",
      "loss: 0.251510  [38464/60000]\n",
      "loss: 0.435599  [44864/60000]\n",
      "loss: 0.393065  [51264/60000]\n",
      "loss: 0.462784  [57664/60000]\n",
      "Epoch 12\n",
      "-------------------------------\n",
      "loss: 0.355369  [   64/60000]\n",
      "loss: 0.297610  [ 6464/60000]\n",
      "loss: 0.299955  [12864/60000]\n",
      "loss: 0.377151  [19264/60000]\n",
      "loss: 0.299014  [25664/60000]\n",
      "loss: 0.371400  [32064/60000]\n",
      "loss: 0.246171  [38464/60000]\n",
      "loss: 0.429121  [44864/60000]\n",
      "loss: 0.386581  [51264/60000]\n",
      "loss: 0.459591  [57664/60000]\n",
      "Epoch 13\n",
      "-------------------------------\n",
      "loss: 0.346632  [   64/60000]\n",
      "loss: 0.294335  [ 6464/60000]\n",
      "loss: 0.291542  [12864/60000]\n",
      "loss: 0.373247  [19264/60000]\n",
      "loss: 0.293316  [25664/60000]\n",
      "loss: 0.367315  [32064/60000]\n",
      "loss: 0.241276  [38464/60000]\n",
      "loss: 0.423056  [44864/60000]\n",
      "loss: 0.380457  [51264/60000]\n",
      "loss: 0.456540  [57664/60000]\n",
      "Epoch 14\n",
      "-------------------------------\n",
      "loss: 0.338368  [   64/60000]\n",
      "loss: 0.291444  [ 6464/60000]\n",
      "loss: 0.283706  [12864/60000]\n",
      "loss: 0.369612  [19264/60000]\n",
      "loss: 0.288014  [25664/60000]\n",
      "loss: 0.363448  [32064/60000]\n",
      "loss: 0.236770  [38464/60000]\n",
      "loss: 0.417367  [44864/60000]\n",
      "loss: 0.374621  [51264/60000]\n",
      "loss: 0.453606  [57664/60000]\n",
      "Epoch 15\n",
      "-------------------------------\n",
      "loss: 0.330544  [   64/60000]\n",
      "loss: 0.288879  [ 6464/60000]\n",
      "loss: 0.276371  [12864/60000]\n",
      "loss: 0.366232  [19264/60000]\n",
      "loss: 0.282992  [25664/60000]\n",
      "loss: 0.359775  [32064/60000]\n",
      "loss: 0.232574  [38464/60000]\n",
      "loss: 0.412020  [44864/60000]\n",
      "loss: 0.369069  [51264/60000]\n",
      "loss: 0.450757  [57664/60000]\n",
      "Done!\n"
     ]
    }
   ],
   "source": [
    "epochs = 15  # The number of data passes\n",
    "for t in range(epochs):\n",
    "    print(f\"Epoch {t+1}\\n-------------------------------\")\n",
    "    train(train_dataloader, model, loss_fn, optimizer)\n",
    "print(\"Done!\")"
   ]
  },
  {
   "cell_type": "code",
   "execution_count": null,
   "metadata": {},
   "outputs": [
    {
     "data": {
      "text/plain": [
       "NeuralNetwork(\n",
       "  (flatten): Flatten(start_dim=1, end_dim=-1)\n",
       "  (linear_relu_stack): Sequential(\n",
       "    (0): Linear(in_features=784, out_features=512, bias=True)\n",
       "    (1): ReLU()\n",
       "    (2): Linear(in_features=512, out_features=512, bias=True)\n",
       "    (3): ReLU()\n",
       "    (4): Linear(in_features=512, out_features=10, bias=True)\n",
       "  )\n",
       ")"
      ]
     },
     "execution_count": 26,
     "metadata": {},
     "output_type": "execute_result"
    }
   ],
   "source": [
    "# Exercise: Select 3 images from the test set and examine the model predictions.\n",
    "\n",
    "model.eval() # Turn the model to evaluation model"
   ]
  },
  {
   "cell_type": "code",
   "execution_count": 35,
   "metadata": {},
   "outputs": [
    {
     "name": "stdout",
     "output_type": "stream",
     "text": [
      "Label: tensor(7)\n"
     ]
    },
    {
     "data": {
      "image/png": "[encoded data removed]",
      "text/plain": [
       "<Figure size 640x480 with 1 Axes>"
      ]
     },
     "metadata": {},
     "output_type": "display_data"
    }
   ],
   "source": [
    "# Select the first image in the test set.\n",
    "idx = 0\n",
    "first_img = test_data.data[idx, :, :]\n",
    "# print(first_img) # Display the values that are in this image\n",
    "plt.imshow(first_img, cmap='grey')\n",
    "print('Label:', test_data.targets[idx])"
   ]
  },
  {
   "cell_type": "code",
   "execution_count": 45,
   "metadata": {},
   "outputs": [
    {
     "name": "stdout",
     "output_type": "stream",
     "text": [
      "Label: tensor(7)\n",
      "tensor([[ 0.0798, -4.3783,  0.1537,  2.2051, -2.5689, -0.8615, -7.2846,  9.4675, -0.4718,  3.9187]], device='mps:0', grad_fn=<LinearBackward0>)\n"
     ]
    },
    {
     "data": {
      "image/png": "[encoded data removed]",
      "text/plain": [
       "<Figure size 640x480 with 1 Axes>"
      ]
     },
     "metadata": {},
     "output_type": "display_data"
    }
   ],
   "source": [
    "# Ensure the model and inputs are on the same device\n",
    "device = torch.device(\"mps\") if torch.backends.mps.is_available() else torch.device(\"cpu\")\n",
    "model.to(device)  # Move model to MPS if available\n",
    "\n",
    "for X, y in test_dataloader:\n",
    "    # Move input tensor to the same device as the model\n",
    "    X = X.to(device)\n",
    "\n",
    "    # Display the image (must move it to CPU before numpy conversion)\n",
    "    plt.imshow(X[idx].cpu().detach().numpy().reshape(28, 28), cmap='gray')\n",
    "\n",
    "    # Make prediction\n",
    "    pred = model(X[idx:idx+1])\n",
    "    print('Label:', y[idx])\n",
    "    print(pred)\n",
    "    break"
   ]
  },
  {
   "cell_type": "markdown",
   "metadata": {},
   "source": [
    "Let's check the model's performance against another dataset (the test dataset) to ensure it is learning."
   ]
  },
  {
   "cell_type": "code",
   "execution_count": null,
   "metadata": {},
   "outputs": [],
   "source": [
    "def test(dataloader, model, loss_fn):\n",
    "    size = len(dataloader.dataset)\n",
    "    num_batches = len(dataloader)\n",
    "    model.eval()\n",
    "    test_loss, correct = 0, 0\n",
    "    with torch.no_grad(): # Keep no gradient turned off during this with block\n",
    "        for X, y in dataloader:\n",
    "            X, y = X.to(device), y.to(device)\n",
    "            pred = model(X)\n",
    "            test_loss += loss_fn(pred, y).item()\n",
    "            correct += (pred.argmax(1) == y).type(torch.float).sum().item()\n",
    "    test_loss /= num_batches\n",
    "    correct /= size\n",
    "    print(f\"Test Error: \\n Accuracy: {(100*correct):>0.1f}%, Avg loss: {test_loss:>8f} \\n\")"
   ]
  },
  {
   "cell_type": "code",
   "execution_count": 47,
   "metadata": {},
   "outputs": [
    {
     "name": "stdout",
     "output_type": "stream",
     "text": [
      "Test Error: \n",
      " Accuracy: 90.6%, Avg loss: 0.326726 \n",
      "\n"
     ]
    }
   ],
   "source": [
    "test(test_dataloader, model, loss_fn)"
   ]
  },
  {
   "cell_type": "code",
   "execution_count": 48,
   "metadata": {},
   "outputs": [
    {
     "name": "stdout",
     "output_type": "stream",
     "text": [
      "Test Error: \n",
      " Accuracy: 90.3%, Avg loss: 0.340814 \n",
      "\n"
     ]
    }
   ],
   "source": [
    "test(train_dataloader, model, loss_fn)"
   ]
  },
  {
   "cell_type": "code",
   "execution_count": 49,
   "metadata": {},
   "outputs": [],
   "source": [
    "# Select three random images from the test set\n",
    "selected_indices = [100, 200, 300]  # Change these indices as needed\n",
    "\n",
    "# Create a list of images using a for loop\n",
    "lst = []  # Start with an empty list\n",
    "for i in selected_indices: # go through all indices\n",
    "    lst.append(test_data[i][0])\n",
    "# print(lst)\n",
    "\n",
    "# Create a list of these images using list comprehension.\n",
    "selected_images = [test_data[i][0] for i in selected_indices]\n",
    "selected_labels = [test_data[i][1] for i in selected_indices]"
   ]
  },
  {
   "cell_type": "code",
   "execution_count": 50,
   "metadata": {},
   "outputs": [],
   "source": [
    "# Since the model is now on GPU, let's sample a few images from the dataloader.\n",
    "for X, y in test_dataloader:\n",
    "    X = X.to(device)\n",
    "    y = y.to(device)\n",
    "\n",
    "    selected_indices = [1, 3, 5]\n",
    "    selected_images = X[selected_indices, :, :, :]\n",
    "    selected_labels = y[selected_indices]\n",
    "    # print(selected_images)\n",
    "    # print(selected_labels)\n",
    "    break"
   ]
  },
  {
   "cell_type": "code",
   "execution_count": 51,
   "metadata": {},
   "outputs": [
    {
     "data": {
      "image/png": "[encoded data removed]",
      "text/plain": [
       "<Figure size 640x480 with 1 Axes>"
      ]
     },
     "metadata": {},
     "output_type": "display_data"
    },
    {
     "data": {
      "image/png": "[encoded data removed]",
      "text/plain": [
       "<Figure size 640x480 with 1 Axes>"
      ]
     },
     "metadata": {},
     "output_type": "display_data"
    },
    {
     "data": {
      "image/png": "[encoded data removed]",
      "text/plain": [
       "<Figure size 640x480 with 1 Axes>"
      ]
     },
     "metadata": {},
     "output_type": "display_data"
    }
   ],
   "source": [
    "import matplotlib.pyplot as plt\n",
    "with torch.no_grad():\n",
    "    for i, image in enumerate(selected_images):\n",
    "        image = image.unsqueeze(0)  # Add batch dimension\n",
    "        output = model(image)\n",
    "        predicted_label = output.argmax(dim=1).item()\n",
    "\n",
    "        plt.imshow(image.cpu().squeeze().numpy(), cmap='gray')\n",
    "        plt.title(f\"Predicted: {predicted_label}, Actual: {selected_labels[i]}\")\n",
    "        plt.show()"
   ]
  },
  {
   "cell_type": "markdown",
   "metadata": {},
   "source": [
    "### The `with` block\n",
    "\n",
    "The expression in the `with` statement will create an object.\n",
    "- The object's `__enter__` method will be called automatically at the beginning of the block,\n",
    "- Its `__exit__()` method will be automatically called when the block ends."
   ]
  },
  {
   "cell_type": "code",
   "execution_count": 52,
   "metadata": {},
   "outputs": [
    {
     "name": "stdout",
     "output_type": "stream",
     "text": [
      "The __enter__ method is called.\n",
      "5\n",
      "The __exit__ method is called.\n",
      "5\n"
     ]
    }
   ],
   "source": [
    "class SimpleClass:\n",
    "\n",
    "    def __init__(self):\n",
    "        pass\n",
    "\n",
    "    def __enter__(self):\n",
    "        print(\"The __enter__ method is called.\")\n",
    "        return 5\n",
    "\n",
    "    def __exit__(self, *args):\n",
    "        print(\"The __exit__ method is called.\")\n",
    "\n",
    "with SimpleClass() as obj:\n",
    "    print(obj)\n",
    "\n",
    "print(obj)"
   ]
  },
  {
   "cell_type": "markdown",
   "metadata": {},
   "source": [
    "## Exercise: Recreate the Neural Network\n",
    "\n",
    "Based on the code above, let's streamline the program to build and train the neural network, removing any unnecessary code for simplicity."
   ]
  },
  {
   "cell_type": "code",
   "execution_count": 72,
   "metadata": {},
   "outputs": [],
   "source": [
    "# Using EMNIST Dataset\n",
    "\n",
    "# Download training data from open datasets.\n",
    "training_data = datasets.FashionMNIST(\n",
    "    root=\"data\",\n",
    "    train=True,\n",
    "    download=True,\n",
    "    transform=ToTensor()\n",
    ")\n",
    "\n",
    "# Download test data from open datasets.\n",
    "test_data = datasets.FashionMNIST(\n",
    "    root=\"data\",\n",
    "    train=False,\n",
    "    download=True,\n",
    "    transform=ToTensor()\n",
    ")"
   ]
  },
  {
   "cell_type": "code",
   "execution_count": 73,
   "metadata": {},
   "outputs": [
    {
     "data": {
      "text/plain": [
       "torch.Size([60000, 28, 28])"
      ]
     },
     "execution_count": 73,
     "metadata": {},
     "output_type": "execute_result"
    }
   ],
   "source": [
    "training_data.data.shape"
   ]
  },
  {
   "cell_type": "code",
   "execution_count": 77,
   "metadata": {},
   "outputs": [
    {
     "name": "stdout",
     "output_type": "stream",
     "text": [
      "Label: tensor(9)\n"
     ]
    },
    {
     "data": {
      "image/png": "[encoded data removed]",
      "text/plain": [
       "<Figure size 640x480 with 1 Axes>"
      ]
     },
     "metadata": {},
     "output_type": "display_data"
    }
   ],
   "source": [
    "idx = 0\n",
    "plt.imshow(training_data.data[idx, :, :], cmap='grey')\n",
    "print(\"Label:\", training_data.targets[idx])"
   ]
  },
  {
   "cell_type": "code",
   "execution_count": 78,
   "metadata": {},
   "outputs": [
    {
     "name": "stdout",
     "output_type": "stream",
     "text": [
      "Shape of X [N, C, H, W]: torch.Size([64, 1, 28, 28])\n",
      "Shape of y: torch.Size([64]) torch.int64\n"
     ]
    }
   ],
   "source": [
    "batch_size = 64\n",
    "\n",
    "# Create data loaders.\n",
    "train_dataloader = DataLoader(training_data, batch_size=batch_size)\n",
    "test_dataloader = DataLoader(test_data, batch_size=batch_size)\n",
    "\n",
    "for X, y in test_dataloader:\n",
    "    print(f\"Shape of X [N, C, H, W]: {X.shape}\")\n",
    "    print(f\"Shape of y: {y.shape} {y.dtype}\")\n",
    "    break"
   ]
  },
  {
   "cell_type": "code",
   "execution_count": 79,
   "metadata": {},
   "outputs": [
    {
     "name": "stdout",
     "output_type": "stream",
     "text": [
      "NeuralNetwork(\n",
      "  (flatten): Flatten(start_dim=1, end_dim=-1)\n",
      "  (linear_relu_stack): Sequential(\n",
      "    (0): Linear(in_features=784, out_features=512, bias=True)\n",
      "    (1): ReLU()\n",
      "    (2): Linear(in_features=512, out_features=512, bias=True)\n",
      "    (3): ReLU()\n",
      "    (4): Linear(in_features=512, out_features=10, bias=True)\n",
      "  )\n",
      ")\n"
     ]
    }
   ],
   "source": [
    "# Define model\n",
    "class NeuralNetwork(nn.Module): # Build the new class by extending the Module class\n",
    "    def __init__(self):\n",
    "        super().__init__()\n",
    "        self.flatten = nn.Flatten() # This is the input layer that can flatten the input 2D array\n",
    "        self.linear_relu_stack = nn.Sequential(\n",
    "            nn.Linear(28*28, 512), # This represents the weighted summation of the first hidden layer\n",
    "            nn.ReLU(),             # This is the activation function for the first hidden layer\n",
    "            nn.Linear(512, 512),   # Another dense layer\n",
    "            nn.ReLU(),\n",
    "            nn.Linear(512, 10)     # The output layer.\n",
    "        )                          # It has only 10 nodes because we need 10\n",
    "                                   # probabilities for the prediction.\n",
    "\n",
    "    def forward(self, x):   # Specifies how the model produces the outcome\n",
    "        x = self.flatten(x)\n",
    "        logits = self.linear_relu_stack(x)\n",
    "        return logits\n",
    "\n",
    "model = NeuralNetwork().to(device)\n",
    "print(model)"
   ]
  },
  {
   "cell_type": "code",
   "execution_count": 80,
   "metadata": {},
   "outputs": [],
   "source": [
    "loss_fn = nn.CrossEntropyLoss()\n",
    "optimizer = torch.optim.SGD(model.parameters(), lr=1e-3)"
   ]
  },
  {
   "cell_type": "code",
   "execution_count": 81,
   "metadata": {},
   "outputs": [],
   "source": [
    "def train(dataloader, model, loss_fn, optimizer):\n",
    "    size = len(dataloader.dataset)\n",
    "    model.train()  # Turn on the training mode\n",
    "    for batch, (X, y) in enumerate(dataloader):\n",
    "        X, y = X.to(device), y.to(device)\n",
    "\n",
    "        # Compute prediction error\n",
    "        pred = model(X)\n",
    "        loss = loss_fn(pred, y)\n",
    "\n",
    "        # Backpropagation\n",
    "        loss.backward()  # Compute the gradient of the loss\n",
    "        optimizer.step() # Use the gradient to update the parameters\n",
    "        optimizer.zero_grad() # Reset the gradient vector\n",
    "\n",
    "        if batch % 100 == 0:\n",
    "            loss, current = loss.item(), (batch + 1) * len(X)\n",
    "            print(f\"loss: {loss:>7f}  [{current:>5d}/{size:>5d}]\")"
   ]
  },
  {
   "cell_type": "code",
   "execution_count": 84,
   "metadata": {},
   "outputs": [
    {
     "name": "stdout",
     "output_type": "stream",
     "text": [
      "Epoch 1\n",
      "-------------------------------\n",
      "loss: 0.642939  [   64/60000]\n",
      "loss: 0.750655  [ 6464/60000]\n",
      "loss: 0.516073  [12864/60000]\n",
      "loss: 0.752673  [19264/60000]\n",
      "loss: 0.665852  [25664/60000]\n",
      "loss: 0.646364  [32064/60000]\n",
      "loss: 0.709686  [38464/60000]\n",
      "loss: 0.728170  [44864/60000]\n",
      "loss: 0.729970  [51264/60000]\n",
      "loss: 0.674809  [57664/60000]\n",
      "Epoch 2\n",
      "-------------------------------\n",
      "loss: 0.622205  [   64/60000]\n",
      "loss: 0.731578  [ 6464/60000]\n",
      "loss: 0.499664  [12864/60000]\n",
      "loss: 0.739952  [19264/60000]\n",
      "loss: 0.654749  [25664/60000]\n",
      "loss: 0.634660  [32064/60000]\n",
      "loss: 0.692342  [38464/60000]\n",
      "loss: 0.717961  [44864/60000]\n",
      "loss: 0.718515  [51264/60000]\n",
      "loss: 0.661685  [57664/60000]\n",
      "Epoch 3\n",
      "-------------------------------\n",
      "loss: 0.603462  [   64/60000]\n",
      "loss: 0.713901  [ 6464/60000]\n",
      "loss: 0.484863  [12864/60000]\n",
      "loss: 0.728130  [19264/60000]\n",
      "loss: 0.644691  [25664/60000]\n",
      "loss: 0.624254  [32064/60000]\n",
      "loss: 0.676087  [38464/60000]\n",
      "loss: 0.708722  [44864/60000]\n",
      "loss: 0.708326  [51264/60000]\n",
      "loss: 0.649405  [57664/60000]\n",
      "Epoch 4\n",
      "-------------------------------\n",
      "loss: 0.586524  [   64/60000]\n",
      "loss: 0.697523  [ 6464/60000]\n",
      "loss: 0.471498  [12864/60000]\n",
      "loss: 0.717063  [19264/60000]\n",
      "loss: 0.635638  [25664/60000]\n",
      "loss: 0.615012  [32064/60000]\n",
      "loss: 0.660957  [38464/60000]\n",
      "loss: 0.700542  [44864/60000]\n",
      "loss: 0.699430  [51264/60000]\n",
      "loss: 0.637866  [57664/60000]\n",
      "Epoch 5\n",
      "-------------------------------\n",
      "loss: 0.571183  [   64/60000]\n",
      "loss: 0.682323  [ 6464/60000]\n",
      "loss: 0.459395  [12864/60000]\n",
      "loss: 0.706722  [19264/60000]\n",
      "loss: 0.627438  [25664/60000]\n",
      "loss: 0.606779  [32064/60000]\n",
      "loss: 0.646828  [38464/60000]\n",
      "loss: 0.693403  [44864/60000]\n",
      "loss: 0.691706  [51264/60000]\n",
      "loss: 0.626975  [57664/60000]\n",
      "Epoch 6\n",
      "-------------------------------\n",
      "loss: 0.557240  [   64/60000]\n",
      "loss: 0.668268  [ 6464/60000]\n",
      "loss: 0.448366  [12864/60000]\n",
      "loss: 0.696994  [19264/60000]\n",
      "loss: 0.619891  [25664/60000]\n",
      "loss: 0.599330  [32064/60000]\n",
      "loss: 0.633759  [38464/60000]\n",
      "loss: 0.687333  [44864/60000]\n",
      "loss: 0.685078  [51264/60000]\n",
      "loss: 0.616653  [57664/60000]\n",
      "Epoch 7\n",
      "-------------------------------\n",
      "loss: 0.544461  [   64/60000]\n",
      "loss: 0.655281  [ 6464/60000]\n",
      "loss: 0.438263  [12864/60000]\n",
      "loss: 0.687820  [19264/60000]\n",
      "loss: 0.612906  [25664/60000]\n",
      "loss: 0.592585  [32064/60000]\n",
      "loss: 0.621664  [38464/60000]\n",
      "loss: 0.682275  [44864/60000]\n",
      "loss: 0.679358  [51264/60000]\n",
      "loss: 0.606769  [57664/60000]\n",
      "Epoch 8\n",
      "-------------------------------\n",
      "loss: 0.532685  [   64/60000]\n",
      "loss: 0.643275  [ 6464/60000]\n",
      "loss: 0.428993  [12864/60000]\n",
      "loss: 0.679129  [19264/60000]\n",
      "loss: 0.606390  [25664/60000]\n",
      "loss: 0.586367  [32064/60000]\n",
      "loss: 0.610461  [38464/60000]\n",
      "loss: 0.678081  [44864/60000]\n",
      "loss: 0.674547  [51264/60000]\n",
      "loss: 0.597305  [57664/60000]\n",
      "Epoch 9\n",
      "-------------------------------\n",
      "loss: 0.521852  [   64/60000]\n",
      "loss: 0.632219  [ 6464/60000]\n",
      "loss: 0.420435  [12864/60000]\n",
      "loss: 0.670871  [19264/60000]\n",
      "loss: 0.600229  [25664/60000]\n",
      "loss: 0.580555  [32064/60000]\n",
      "loss: 0.600175  [38464/60000]\n",
      "loss: 0.674737  [44864/60000]\n",
      "loss: 0.670467  [51264/60000]\n",
      "loss: 0.588184  [57664/60000]\n",
      "Epoch 10\n",
      "-------------------------------\n",
      "loss: 0.511777  [   64/60000]\n",
      "loss: 0.621972  [ 6464/60000]\n",
      "loss: 0.412489  [12864/60000]\n",
      "loss: 0.663030  [19264/60000]\n",
      "loss: 0.594369  [25664/60000]\n",
      "loss: 0.575111  [32064/60000]\n",
      "loss: 0.590724  [38464/60000]\n",
      "loss: 0.672144  [44864/60000]\n",
      "loss: 0.667082  [51264/60000]\n",
      "loss: 0.579355  [57664/60000]\n",
      "Epoch 11\n",
      "-------------------------------\n",
      "loss: 0.502333  [   64/60000]\n",
      "loss: 0.612479  [ 6464/60000]\n",
      "loss: 0.405077  [12864/60000]\n",
      "loss: 0.655600  [19264/60000]\n",
      "loss: 0.588789  [25664/60000]\n",
      "loss: 0.569920  [32064/60000]\n",
      "loss: 0.582014  [38464/60000]\n",
      "loss: 0.670259  [44864/60000]\n",
      "loss: 0.664143  [51264/60000]\n",
      "loss: 0.570853  [57664/60000]\n",
      "Epoch 12\n",
      "-------------------------------\n",
      "loss: 0.493400  [   64/60000]\n",
      "loss: 0.603781  [ 6464/60000]\n",
      "loss: 0.398175  [12864/60000]\n",
      "loss: 0.648453  [19264/60000]\n",
      "loss: 0.583342  [25664/60000]\n",
      "loss: 0.564946  [32064/60000]\n",
      "loss: 0.573953  [38464/60000]\n",
      "loss: 0.669059  [44864/60000]\n",
      "loss: 0.661590  [51264/60000]\n",
      "loss: 0.562587  [57664/60000]\n",
      "Epoch 13\n",
      "-------------------------------\n",
      "loss: 0.484959  [   64/60000]\n",
      "loss: 0.595687  [ 6464/60000]\n",
      "loss: 0.391736  [12864/60000]\n",
      "loss: 0.641633  [19264/60000]\n",
      "loss: 0.577965  [25664/60000]\n",
      "loss: 0.560179  [32064/60000]\n",
      "loss: 0.566512  [38464/60000]\n",
      "loss: 0.668267  [44864/60000]\n",
      "loss: 0.659301  [51264/60000]\n",
      "loss: 0.554618  [57664/60000]\n",
      "Epoch 14\n",
      "-------------------------------\n",
      "loss: 0.476934  [   64/60000]\n",
      "loss: 0.588206  [ 6464/60000]\n",
      "loss: 0.385733  [12864/60000]\n",
      "loss: 0.635069  [19264/60000]\n",
      "loss: 0.572694  [25664/60000]\n",
      "loss: 0.555597  [32064/60000]\n",
      "loss: 0.559614  [38464/60000]\n",
      "loss: 0.667893  [44864/60000]\n",
      "loss: 0.657175  [51264/60000]\n",
      "loss: 0.546849  [57664/60000]\n",
      "Epoch 15\n",
      "-------------------------------\n",
      "loss: 0.469387  [   64/60000]\n",
      "loss: 0.581234  [ 6464/60000]\n",
      "loss: 0.380091  [12864/60000]\n",
      "loss: 0.628783  [19264/60000]\n",
      "loss: 0.567529  [25664/60000]\n",
      "loss: 0.551106  [32064/60000]\n",
      "loss: 0.553179  [38464/60000]\n",
      "loss: 0.667820  [44864/60000]\n",
      "loss: 0.655224  [51264/60000]\n",
      "loss: 0.539257  [57664/60000]\n",
      "Done!\n"
     ]
    }
   ],
   "source": [
    "epochs = 15  # The number of data passes\n",
    "for t in range(epochs):\n",
    "    print(f\"Epoch {t+1}\\n-------------------------------\")\n",
    "    train(train_dataloader, model, loss_fn, optimizer)\n",
    "print(\"Done!\")"
   ]
  },
  {
   "cell_type": "code",
   "execution_count": 86,
   "metadata": {},
   "outputs": [
    {
     "name": "stdout",
     "output_type": "stream",
     "text": [
      "Test Error: \n",
      " Accuracy: 80.8%, Avg loss: 0.550530 \n",
      "\n",
      "Test Error: \n",
      " Accuracy: 82.0%, Avg loss: 0.527712 \n",
      "\n"
     ]
    }
   ],
   "source": [
    "model.eval() # Turn the model to evaluation model\n",
    "test(test_dataloader, model, loss_fn)\n",
    "test(train_dataloader, model, loss_fn)"
   ]
  },
  {
   "cell_type": "code",
   "execution_count": 87,
   "metadata": {},
   "outputs": [],
   "source": [
    "# Select three random images from the test set\n",
    "selected_indices = [100, 200, 300]  # Change these indices as needed\n",
    "\n",
    "# Create a list of images using a for loop\n",
    "lst = []  # Start with an empty list\n",
    "for i in selected_indices: # go through all indices\n",
    "    lst.append(test_data[i][0])\n",
    "# print(lst)\n",
    "\n",
    "# Create a list of these images using list comprehension.\n",
    "selected_images = [test_data[i][0] for i in selected_indices]\n",
    "selected_labels = [test_data[i][1] for i in selected_indices]"
   ]
  },
  {
   "cell_type": "code",
   "execution_count": 88,
   "metadata": {},
   "outputs": [],
   "source": [
    "# Since the model is now on GPU, let's sample a few images from the dataloader.\n",
    "for X, y in test_dataloader:\n",
    "    X = X.to(device)\n",
    "    y = y.to(device)\n",
    "\n",
    "    selected_indices = [1, 3, 5]\n",
    "    selected_images = X[selected_indices, :, :, :]\n",
    "    selected_labels = y[selected_indices]\n",
    "    # print(selected_images)\n",
    "    # print(selected_labels)\n",
    "    break"
   ]
  },
  {
   "cell_type": "code",
   "execution_count": 89,
   "metadata": {},
   "outputs": [
    {
     "data": {
      "image/png": "[encoded data removed]",
      "text/plain": [
       "<Figure size 640x480 with 1 Axes>"
      ]
     },
     "metadata": {},
     "output_type": "display_data"
    },
    {
     "data": {
      "image/png": "[encoded data removed]",
      "text/plain": [
       "<Figure size 640x480 with 1 Axes>"
      ]
     },
     "metadata": {},
     "output_type": "display_data"
    },
    {
     "data": {
      "image/png": "[encoded data removed]",
      "text/plain": [
       "<Figure size 640x480 with 1 Axes>"
      ]
     },
     "metadata": {},
     "output_type": "display_data"
    }
   ],
   "source": [
    "import matplotlib.pyplot as plt\n",
    "with torch.no_grad():\n",
    "    for i, image in enumerate(selected_images):\n",
    "        image = image.unsqueeze(0)  # Add batch dimension\n",
    "        output = model(image)\n",
    "        predicted_label = output.argmax(dim=1).item()\n",
    "\n",
    "        plt.imshow(image.cpu().squeeze().numpy(), cmap='gray')\n",
    "        plt.title(f\"Predicted: {predicted_label}, Actual: {selected_labels[i]}\")\n",
    "        plt.show()"
   ]
  }
 ],
 "metadata": {
  "kernelspec": {
   "display_name": "Python 3",
   "language": "python",
   "name": "python3"
  },
  "language_info": {
   "codemirror_mode": {
    "name": "ipython",
    "version": 3
   },
   "file_extension": ".py",
   "mimetype": "text/x-python",
   "name": "python",
   "nbconvert_exporter": "python",
   "pygments_lexer": "ipython3",
   "version": "3.9.6"
  }
 },
 "nbformat": 4,
 "nbformat_minor": 2
}
