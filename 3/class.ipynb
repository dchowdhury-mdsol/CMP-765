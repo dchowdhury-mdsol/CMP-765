{
 "cells": [
  {
   "cell_type": "markdown",
   "metadata": {},
   "source": [
    "# Intelligent Agent\n",
    "\n",
    "An **agent** is anything that can be viewed as perceiving its environment through sensors and\n",
    "acting upon that environment. Let's create an intelligent agent that can navigate through a grid world to reach a target while avoiding obstacles."
   ]
  },
  {
   "cell_type": "markdown",
   "metadata": {},
   "source": [
    "### Task 1: Environment Setup\n",
    "\n",
    "Write a function `create_environment(num_rows, num_cols, num_obstacles)` to create a 2D list as the environment for the agent. The grid should consist of cells, some of which are obstacles (marked as \"X\") and one of which is the target (marked as \"T\"). You can represent the grid as a 2D list.\n",
    "- `num_rows` represents the number of rows.\n",
    "- `num_cols` represents the number of columns.\n",
    "- `num_obstacles` represents the number of cells that are obstacles. The function should randomly select the row index and column index for the obstacle cells using [`numpy.random.randint`](https://numpy.org/doc/stable/reference/random/generated/numpy.random.randint.html)\n",
    "- The target cell always appears at the lower-right corner.\n",
    "- The function should return the 2D list in the end."
   ]
  },
  {
   "cell_type": "code",
   "execution_count": 28,
   "metadata": {},
   "outputs": [],
   "source": [
    "import random\n",
    "from IPython.display import clear_output\n",
    "import time\n",
    "import heapq"
   ]
  },
  {
   "cell_type": "code",
   "execution_count": 14,
   "metadata": {},
   "outputs": [],
   "source": [
    "list2D = [[\"O\", \"_\", \"_\", \"_\", \"_\"],\n",
    "          [\"_\", \"X\", \"_\", \"_\", \"_\"],\n",
    "          [\"_\", \"_\", \"_\", \"X\", \"_\"],\n",
    "          [\"_\", \"_\", \"_\", \"_\", \"_\"],\n",
    "          [\"_\", \"_\", \"_\", \"_\", \"T\"]]"
   ]
  },
  {
   "cell_type": "code",
   "execution_count": null,
   "metadata": {},
   "outputs": [],
   "source": [
    "def create_environment(num_rows, num_cols, num_obstacles, target:list):\n",
    "\n",
    "    # Create a 2D list with the expected size.\n",
    "    # By default, each element is \"◻\"\n",
    "    grid = [[\"◻\" for i in range(num_cols)] for j in range(num_rows)]\n",
    "\n",
    "    # Indicate the origin and the destination\n",
    "\n",
    "    # Add random \"⛝\" to the grid.\n",
    "    # The total number of \"⛝\" should equal to num_obstacles\n",
    "\n",
    "    while num_obstacles > 0:\n",
    "        x = random.randint(0, num_rows - 1)\n",
    "        y = random.randint(0, num_cols - 1)\n",
    "        if grid[x][y] != \"⛝\": grid[x][y] = \"⛝\"\n",
    "        else:\n",
    "            while grid[x][y] == \"⛝\":\n",
    "                x = random.randint(0, num_rows - 1)\n",
    "                y = random.randint(0, num_cols - 1)\n",
    "            grid[x][y] = \"⛝\"\n",
    "        num_obstacles -= 1\n",
    "\n",
    "    grid[target[0]][target[1]] = 'T'\n",
    "\n",
    "    # Invoke the print_grid() function to display the generated grid.\n",
    "    for row in grid: print(' '.join(row))\n",
    "\n",
    "    return grid"
   ]
  },
  {
   "cell_type": "markdown",
   "metadata": {},
   "source": [
    "### Task 2: Agent Class\n",
    "\n",
    "Create a class `Agent` that represents the intelligent agent.\n",
    "\n",
    "**Attributes:**\n",
    "- `self.grid`: the environment\n",
    "- `self.position`: the current position of the agent, the starting position should always be the upper-left corner.\n",
    "- `self.target`: the position of the target. The target's position should always be the lower-right corner.\n",
    "\n",
    "**Methods:**\n",
    "- `perceive_environment()`: This method allows the agent to perceive its adjacent cells.\n",
    "- `decide_action()`: Implement a simple decision-making process for your agent to determine the next action (up, down, left, or right).\n",
    "- `take_action()`: Execute the chosen action and update the agent's position on the grid."
   ]
  },
  {
   "cell_type": "code",
   "execution_count": 59,
   "metadata": {},
   "outputs": [],
   "source": [
    "class Agent:\n",
    "    def __init__(self, grid, position, target):\n",
    "        self.grid = grid\n",
    "        self.position = tuple(position)\n",
    "        self.target = tuple(target)\n",
    "        self.l_pos = {}\n",
    "        self.grid[self.position[0]][self.position[1]] = 'A'\n",
    "\n",
    "    def percieve_environment(self):\n",
    "        moves = {\n",
    "            \"north\": (self.position[0] - 1, self.position[1]) if self.position[0] > 0 else None,\n",
    "            \"south\": (self.position[0] + 1, self.position[1]) if self.position[0] < len(self.grid) - 1 else None,\n",
    "            \"west\": (self.position[0], self.position[1] - 1) if self.position[1] > 0 else None,\n",
    "            \"east\": (self.position[0], self.position[1] + 1) if self.position[1] < len(self.grid[0]) - 1 else None\n",
    "        }\n",
    "        return {d: pos for d, pos in moves.items() if pos and self.grid[pos[0]][pos[1]] in ('◻', 'T')}\n",
    "\n",
    "    def manhattan_distance(self, position):\n",
    "        return abs(position[0] - self.target[0]) + abs(position[1] - self.target[1])\n",
    "\n",
    "    def decide_actions(self):\n",
    "        moves = []\n",
    "        heapq.heappush(moves, (0, self.position))\n",
    "        self.l_pos = {self.position: None}\n",
    "        costs = {self.position: 0}\n",
    "\n",
    "        while moves:\n",
    "            _, current = heapq.heappop(moves)\n",
    "\n",
    "            if current == self.target:\n",
    "                path = []\n",
    "                while current is not None:\n",
    "                    path.append(current)\n",
    "                    current = self.l_pos[current]\n",
    "                return path[::-1]\n",
    "\n",
    "            for n_pos in self.percieve_environment().values():\n",
    "                if n_pos not in costs and self.grid[n_pos[0]][n_pos[1]] in ('◻', 'T'):\n",
    "                    n_costs = costs[current] + 1\n",
    "                    costs[n_pos] = n_costs\n",
    "                    priority = n_costs + self.manhattan_distance(n_pos)\n",
    "                    heapq.heappush(moves, (priority, n_pos))\n",
    "                    self.l_pos[n_pos] = current\n",
    "\n",
    "        return None \n",
    "\n",
    "    def take_action(self):\n",
    "        path = self.decide_actions()\n",
    "        if not path or len(path) < 2: return 'No valid moves available. The agent is stuck!'\n",
    "        n_pos = path[1]\n",
    "        if self.position != self.target: self.grid[self.position[0]][self.position[1]] = '◻'\n",
    "        self.position = n_pos\n",
    "        self.grid[self.position[0]][self.position[1]] = 'A'\n",
    "\n",
    "    def print_grid(self):\n",
    "        \"\"\"Displays the current grid state.\"\"\"\n",
    "        for row in self.grid:\n",
    "            print(\" \".join(row))\n",
    "        print(\"\\n\")"
   ]
  },
  {
   "cell_type": "code",
   "execution_count": 60,
   "metadata": {},
   "outputs": [
    {
     "name": "stdout",
     "output_type": "stream",
     "text": [
      "◻ ◻ ⛝ ◻ ◻ ⛝ ⛝ ◻ ◻ ◻\n",
      "⛝ ◻ ◻ ◻ ◻ ⛝ ◻ ◻ ⛝ ◻\n",
      "◻ ◻ ⛝ ◻ ◻ ◻ ⛝ ◻ ◻ ◻\n",
      "◻ ◻ ⛝ ⛝ ◻ ◻ ◻ ◻ ◻ ◻\n",
      "◻ ◻ ⛝ ◻ ⛝ ◻ ◻ ◻ ◻ ◻\n",
      "◻ ◻ A ◻ ⛝ ⛝ ◻ ◻ ◻ ◻\n",
      "◻ ◻ ◻ ⛝ ◻ ◻ ◻ ◻ ◻ ◻\n",
      "⛝ ◻ ◻ ◻ ◻ ◻ ◻ ◻ ◻ ◻\n",
      "◻ ◻ ⛝ ⛝ ◻ ◻ ◻ ◻ ◻ ⛝\n",
      "◻ ⛝ ◻ ◻ ◻ ◻ ◻ ◻ ◻ T\n",
      "\n",
      "\n"
     ]
    },
    {
     "ename": "KeyboardInterrupt",
     "evalue": "",
     "output_type": "error",
     "traceback": [
      "\u001b[0;31m---------------------------------------------------------------------------\u001b[0m",
      "\u001b[0;31mKeyboardInterrupt\u001b[0m                         Traceback (most recent call last)",
      "Cell \u001b[0;32mIn[60], line 19\u001b[0m\n\u001b[1;32m     17\u001b[0m     agent\u001b[38;5;241m.\u001b[39mprint_grid()\n\u001b[1;32m     18\u001b[0m     moves \u001b[38;5;241m+\u001b[39m\u001b[38;5;241m=\u001b[39m \u001b[38;5;241m1\u001b[39m\n\u001b[0;32m---> 19\u001b[0m     \u001b[43mtime\u001b[49m\u001b[38;5;241;43m.\u001b[39;49m\u001b[43msleep\u001b[49m\u001b[43m(\u001b[49m\u001b[38;5;241;43m1\u001b[39;49m\u001b[43m)\u001b[49m\n\u001b[1;32m     21\u001b[0m \u001b[38;5;28mprint\u001b[39m(\u001b[38;5;124mf\u001b[39m\u001b[38;5;124m'\u001b[39m\u001b[38;5;130;01m\\n\u001b[39;00m\u001b[38;5;124mAgent has reached the target in \u001b[39m\u001b[38;5;132;01m{\u001b[39;00mmoves\u001b[38;5;132;01m}\u001b[39;00m\u001b[38;5;124m moves.\u001b[39m\u001b[38;5;124m'\u001b[39m)\n",
      "\u001b[0;31mKeyboardInterrupt\u001b[0m: "
     ]
    }
   ],
   "source": [
    "target_x = random.randint(1, 9)\n",
    "target_y = random.randint(1, 9)\n",
    "\n",
    "start_x = random.randint(1, 9)\n",
    "start_y = random.randint(1, 9)\n",
    "\n",
    "target = [target_x, target_y]\n",
    "start = [start_x, start_y]\n",
    "grid = create_environment(10, 10, 20, target)\n",
    "\n",
    "agent = Agent(grid, start, target)\n",
    "moves = 0\n",
    "\n",
    "while agent.position != agent.target:\n",
    "    clear_output()\n",
    "    agent.take_action()\n",
    "    agent.print_grid()\n",
    "    moves += 1\n",
    "    time.sleep(1)\n",
    "\n",
    "print(f'\\nAgent has reached the target in {moves} moves.')"
   ]
  },
  {
   "cell_type": "code",
   "execution_count": null,
   "metadata": {},
   "outputs": [],
   "source": []
  },
  {
   "cell_type": "markdown",
   "metadata": {},
   "source": [
    "## Discussion:\n",
    "\n",
    "### Search Algorithms\n",
    "\n",
    "The algorithm we implement here is the **depth-first search** (DFS) algorithm. It is useful to search for a given node in a graph. The grid is a special case of graph where each position is a node, and all edges are either horizontal or vertical. In order to support DFS, the agent should keep two list:\n",
    "- A list of all visited nodes.\n",
    "- A list of all nodes leading to the current position.\n",
    "\n",
    "Alternatively, we can implement the **breadth-first search** (BFS) algorithm to find the shortest path leading to the target. In order to implement this algorithm, the agent should analyze the entire graph first, and only take action after the shortest path is found.\n",
    "\n",
    "### Intelligent Agents\n",
    "- The **advantage** of intelligent agents is that the outcome is entirely predictable. The agent will always stick to the rules given to it.\n",
    "- **Disadvantages**:\n",
    "    - The agent cannot learn on its own. In order for the agent to solve the problem, the programmer must know how to solve it.\n",
    "    - It can be quite challenging to explicitly describe the decision-making process.\n",
    "- **Conclusion**: intelligent agents are best built for simple tasks, or where the decision rules are easy to describe.\n"
   ]
  },
  {
   "cell_type": "code",
   "execution_count": null,
   "metadata": {},
   "outputs": [],
   "source": [
    "class BFSAgent:\n",
    "\n",
    "    def __init__(self, grid):\n",
    "        self.grid = grid\n",
    "        self.num_rows = len(grid)\n",
    "        self.num_cols = len(grid[0])\n",
    "        self.position = [0, 0] # The agent always starts at the upper-left corner\n",
    "        self.target = [self.num_rows-1, self.num_cols-1] # The target is always the lower-right corner\n",
    "        self.path = self.analyze()\n",
    "        self.step = 0\n",
    "                            \n",
    "    def analyze(self):\n",
    "        # This method will reveal the shortest path\n",
    "        queue = [self.position]\n",
    "        visited_cells = [[0, 0]]\n",
    "        path = {} # a dictionary to store the parent node for each visited node\n",
    "\n",
    "        while queue:\n",
    "\n",
    "            row, col = queue.pop(0)\n",
    "\n",
    "            if self.grid[row][col] == \"T\":\n",
    "                # Target found, reconstruct the path\n",
    "                shortest_path = [(row, col)]\n",
    "                while [row, col] != self.position: #\n",
    "                    row, col = path[(row, col)]\n",
    "                    shortest_path.append([row, col])\n",
    "                shortest_path.reverse()\n",
    "                return shortest_path\n",
    "\n",
    "            # Explore adjacent cells\n",
    "            moves = [[0, 1], [1, 0], [0, -1], [-1, 0]] # Right, Down, Left, Up\n",
    "            for move in moves:\n",
    "                new_row = row + move[0]\n",
    "                new_col = col + move[1]\n",
    "                if 0 <= new_row < self.num_rows and \\\n",
    "                0 <= new_col < self.num_cols and \\\n",
    "                self.grid[new_row][new_col] != \"X\" and \\\n",
    "                [new_row, new_col] not in visited_cells:\n",
    "                    queue.append([new_row, new_col])\n",
    "                    visited_cells.append([new_row, new_col])\n",
    "                    path[(new_row, new_col)] = (row, col)\n",
    "        return None # No path found\n",
    "\n",
    "    def take_action(self):\n",
    "        self.step += 1\n",
    "        self.position = self.path[self.step]\n"
   ]
  },
  {
   "cell_type": "code",
   "execution_count": null,
   "metadata": {},
   "outputs": [
    {
     "name": "stdout",
     "output_type": "stream",
     "text": [
      "None\n"
     ]
    },
    {
     "ename": "NameError",
     "evalue": "name 'max_moves' is not defined",
     "output_type": "error",
     "traceback": [
      "\u001b[0;31m---------------------------------------------------------------------------\u001b[0m",
      "\u001b[0;31mNameError\u001b[0m                                 Traceback (most recent call last)",
      "Cell \u001b[0;32mIn[87], line 8\u001b[0m\n\u001b[1;32m      4\u001b[0m \u001b[38;5;28mprint\u001b[39m(agent\u001b[38;5;241m.\u001b[39manalyze())\n\u001b[1;32m      6\u001b[0m \u001b[38;5;66;03m# display_agent(agent)\u001b[39;00m\n\u001b[0;32m----> 8\u001b[0m \u001b[38;5;28;01mfor\u001b[39;00m step \u001b[38;5;129;01min\u001b[39;00m \u001b[38;5;28mrange\u001b[39m(\u001b[43mmax_moves\u001b[49m):\n\u001b[1;32m      9\u001b[0m     agent\u001b[38;5;241m.\u001b[39mtake_action()\n\u001b[1;32m     10\u001b[0m     display_agent(agent)\n",
      "\u001b[0;31mNameError\u001b[0m: name 'max_moves' is not defined"
     ]
    }
   ],
   "source": [
    "test_grid = create_environment(7, 7, 7)\n",
    "\n",
    "agent = BFSAgent(test_grid)\n",
    "print(agent.analyze())\n",
    "\n",
    "# display_agent(agent)\n",
    "\n",
    "for step in range(max_moves):\n",
    "    agent.take_action()\n",
    "    display_agent(agent)\n",
    "    if agent.position[0] == agent.target[0] and \\\n",
    "       agent.position[1] == agent.target[1]:\n",
    "        print(\"Target is reached.\")\n",
    "        break"
   ]
  }
 ],
 "metadata": {
  "kernelspec": {
   "display_name": "Python 3",
   "language": "python",
   "name": "python3"
  },
  "language_info": {
   "codemirror_mode": {
    "name": "ipython",
    "version": 3
   },
   "file_extension": ".py",
   "mimetype": "text/x-python",
   "name": "python",
   "nbconvert_exporter": "python",
   "pygments_lexer": "ipython3",
   "version": "3.9.6"
  }
 },
 "nbformat": 4,
 "nbformat_minor": 2
}
