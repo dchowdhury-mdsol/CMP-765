{
  "nbformat": 4,
  "nbformat_minor": 0,
  "metadata": {
    "colab": {
      "provenance": []
    },
    "kernelspec": {
      "name": "python3",
      "display_name": "Python 3"
    },
    "language_info": {
      "name": "python"
    }
  },
  "cells": [
    {
      "cell_type": "markdown",
      "source": [
        "# Lecture 8\n",
        "# The Neural Network Model\n",
        "\n",
        "*Readings:* Chapter 6\n",
        "\n",
        "<img src=\"https://github.com/ch00226855/temp/blob/main/.ipynb_checkpoints/LearningProcess.png?raw=true\" height=\"500\">"
      ],
      "metadata": {
        "id": "D2Chl6JIf0jR"
      }
    },
    {
      "cell_type": "code",
      "source": [
        "import numpy as np\n",
        "import torch\n",
        "import torch.optim as optim\n",
        "\n",
        "torch.set_printoptions(edgeitems=2, linewidth=75)"
      ],
      "metadata": {
        "id": "zE4mRdjKhwRs"
      },
      "execution_count": null,
      "outputs": []
    },
    {
      "cell_type": "code",
      "source": [
        "t_c = [0.5,  14.0, 15.0, 28.0, 11.0,  8.0,  3.0, -4.0,  6.0, 13.0, 21.0]\n",
        "t_u = [35.7, 55.9, 58.2, 81.9, 56.3, 48.9, 33.9, 21.8, 48.4, 60.4, 68.4]\n",
        "t_c = torch.tensor(t_c).unsqueeze(1)\n",
        "t_u = torch.tensor(t_u).unsqueeze(1)\n",
        "\n",
        "t_u.shape"
      ],
      "metadata": {
        "id": "RTC4t7sGh51g",
        "colab": {
          "base_uri": "https://localhost:8080/"
        },
        "outputId": "44465b1f-98c7-4c17-a171-8b1eae97131f"
      },
      "execution_count": null,
      "outputs": [
        {
          "output_type": "execute_result",
          "data": {
            "text/plain": [
              "torch.Size([11, 1])"
            ]
          },
          "metadata": {},
          "execution_count": 17
        }
      ]
    },
    {
      "cell_type": "code",
      "source": [
        "from sklearn.model_selection import train_test_split\n",
        "\n",
        "t_un = 0.1 * t_u # normalization\n",
        "t_un_train, t_un_val, t_c_train, t_c_val = train_test_split(t_un, t_c, test_size=0.2)\n",
        "\n",
        "# Why does this not work?\n",
        "# t_un_train, t_un_val = train_test_split(t_un, test_size=0.2)\n",
        "# t_c_train, t_c_val = train_test_split(t_c, test_size=0.2)\n",
        "\n",
        "print(t_un_train.view(-1))\n",
        "print(t_c_train.view(-1))"
      ],
      "metadata": {
        "id": "r7Kn8BhjiL3Z",
        "colab": {
          "base_uri": "https://localhost:8080/"
        },
        "outputId": "2db15fb9-1884-42cf-b55d-0e24ce57d135"
      },
      "execution_count": null,
      "outputs": [
        {
          "output_type": "stream",
          "name": "stdout",
          "text": [
            "tensor([8.1900, 5.8200, 5.6300, 3.5700, 6.8400, 6.0400, 5.5900, 2.1800])\n",
            "tensor([28.0000, 15.0000, 11.0000,  0.5000, 21.0000, 13.0000, 14.0000,\n",
            "        -4.0000])\n"
          ]
        }
      ]
    },
    {
      "cell_type": "markdown",
      "source": [
        "## Artificial Neurons\n",
        "\n",
        "The basic building block of neural netowrks is the **artificial neuron**.\n",
        "- At its core, the artificial neuron nothing but:\n",
        "    - the application of a linear transformation of the input, and\n",
        "    - the application of a non-linear function (called the **activation function**)\n",
        "- Mathematically, we can express the artificial neuron as\n",
        "$$\n",
        "output = \\sigma(w\\cdot input + b)\n",
        "$$\n",
        "- w is called the **weight matrix**\n",
        "- b is called the **biase vector**\n",
        "- $\\sigma$ is a non-linear function.\n",
        "\n",
        "<img src=\"https://github.com/ch00226855/temp/blob/main/.ipynb_checkpoints/Neuron.png?raw=true\" height=\"500\">\n",
        "\n",
        "Popular choices of activation functions are:\n",
        "- The logistic function $\\sigma(t) = \\frac{1}{1 + e^{-t}}$\n",
        "- The hyperbolic tangent $tanh(t) = \\frac{e^t - e^{-t}}{e^t + e^{-t}}$\n",
        "- The rectified linear unit (ReLU) $ReLU(t) = \\max{(0, t)}$\n",
        "\n",
        "<img src=\"https://github.com/ch00226855/temp/blob/main/.ipynb_checkpoints/ActivationFunction.png?raw=true\" height=\"500\">"
      ],
      "metadata": {
        "id": "NBSmT3NCio5X"
      }
    },
    {
      "cell_type": "code",
      "source": [
        "# Plot the graph of the logistic function.\n",
        "import matplotlib.pyplot as plt\n",
        "coordX = np.linspace(-10, 10, 101)\n",
        "coordY = 1 / (1 + np.exp(-coordX))\n",
        "# print(coordX)\n",
        "# print(coordY)\n",
        "plt.plot(coordX, coordY, 'r.-')"
      ],
      "metadata": {
        "id": "u-bSTxvpt8Pd",
        "colab": {
          "base_uri": "https://localhost:8080/",
          "height": 448
        },
        "outputId": "0259d1a5-51d8-4033-c47a-ef51473a3a65"
      },
      "execution_count": null,
      "outputs": [
        {
          "output_type": "execute_result",
          "data": {
            "text/plain": [
              "[<matplotlib.lines.Line2D at 0x7cf384c82590>]"
            ]
          },
          "metadata": {},
          "execution_count": 6
        },
        {
          "output_type": "display_data",
          "data": {
            "text/plain": [
              "<Figure size 640x480 with 1 Axes>"
            ],
            "image/png": "[encoded data removed]"
          },
          "metadata": {}
        }
      ]
    },
    {
      "cell_type": "code",
      "source": [
        "# Plot the graph of the ReLu function.\n",
        "coordX = np.linspace(-10, 10, 101)\n",
        "coordY = np.maximum(0, coordX)\n",
        "plt.plot(coordX, coordY, 'r.-')"
      ],
      "metadata": {
        "id": "cRTU7sL8t_vp",
        "colab": {
          "base_uri": "https://localhost:8080/",
          "height": 448
        },
        "outputId": "93184970-9308-4836-a3a9-3bed8f55bd6d"
      },
      "execution_count": null,
      "outputs": [
        {
          "output_type": "execute_result",
          "data": {
            "text/plain": [
              "[<matplotlib.lines.Line2D at 0x7cf382b8b6a0>]"
            ]
          },
          "metadata": {},
          "execution_count": 7
        },
        {
          "output_type": "display_data",
          "data": {
            "text/plain": [
              "<Figure size 640x480 with 1 Axes>"
            ],
            "image/png": "[encoded data removed]"
          },
          "metadata": {}
        }
      ]
    },
    {
      "cell_type": "markdown",
      "source": [
        "## Composing a Multi-Layer Network\n",
        "\n",
        "A multi-layer neural network is made up of a composition of functions discussed in the previous section:\n",
        "- `x_1 = layer1(x_0)`\n",
        "- `x_2 = layer2(x_1)`\n",
        "- ...\n",
        "- `y = layer_last(x_last)`\n",
        "\n",
        "Each layer i has its own weight matrix `w_i` and bias vector `b_i`. These parameters determines the behavior of the neural network together.\n",
        "\n",
        "<img src=\"https://github.com/ch00226855/temp/blob/main/.ipynb_checkpoints/NeuralNetwork.png?raw=true\" height=\"500\">"
      ],
      "metadata": {
        "id": "ijaFnTcTsxiE"
      }
    },
    {
      "cell_type": "code",
      "source": [
        "# Let's build a neural network with 3 layers.\n",
        "def relu(t):\n",
        "    return torch.relu(t)"
      ],
      "metadata": {
        "id": "dCjnI1LGPIRc"
      },
      "execution_count": null,
      "outputs": []
    },
    {
      "cell_type": "code",
      "source": [
        "# layer\n",
        "def layer(x, w, b):\n",
        "    #  return relu(x @ w + b) # @ represents vector inner product\n",
        "    return relu(torch.matmul(x, w) + b)"
      ],
      "metadata": {
        "id": "O61dyk8XPXaW"
      },
      "execution_count": null,
      "outputs": []
    },
    {
      "cell_type": "code",
      "source": [
        "# Network\n",
        "def net(x, w1, w2, w3, b1, b2, b3):\n",
        "    x1 = layer(x, w1, b1)\n",
        "    x2 = layer(x1, w2, b2)\n",
        "    x3 = layer(x2, w3, b3)\n",
        "    return x3"
      ],
      "metadata": {
        "id": "PPkv2COyQGrk"
      },
      "execution_count": null,
      "outputs": []
    },
    {
      "cell_type": "code",
      "source": [
        "# Feed t_un_train to the network and get predictions\n",
        "w1 = torch.zeros([1, 5], requires_grad=True) # 1 means 1 input feature, 5 means 5 neurons.\n",
        "b1 = torch.zeros([1, 5], requires_grad=True)\n",
        "# x1 = layer1(t_un_train, w1, b1)\n",
        "\n",
        "w2 = torch.zeros([5, 5], requires_grad=True) # first 5 comes from the 5 inputs,\n",
        "                        #  second 5 comes from the size of this layer\n",
        "b2 = torch.zeros([1, 5], requires_grad=True)\n",
        "# x2 = layer2(x1, w2, b2)\n",
        "# print(x2)\n",
        "\n",
        "w3 = torch.zeros([5, 1], requires_grad=True)\n",
        "b3 = torch.zeros([1, 1], requires_grad=True)\n",
        "# x3 = layer3(x2, w3, b3)\n",
        "# print(x3)\n",
        "\n",
        "prediction = net(t_un_train, w1, w2, w3, b1, b2, b3)\n",
        "print(prediction)"
      ],
      "metadata": {
        "id": "8OlmyL6OQlrm",
        "colab": {
          "base_uri": "https://localhost:8080/"
        },
        "outputId": "46835235-f459-4859-8f20-eb4063160592"
      },
      "execution_count": null,
      "outputs": [
        {
          "output_type": "stream",
          "name": "stdout",
          "text": [
            "tensor([[0.],\n",
            "        [0.],\n",
            "        [0.],\n",
            "        [0.],\n",
            "        [0.],\n",
            "        [0.],\n",
            "        [0.],\n",
            "        [0.]], grad_fn=<ReluBackward0>)\n"
          ]
        }
      ]
    },
    {
      "cell_type": "code",
      "source": [
        "# Verify that a non-linear activation is essential for a multi-layer network.\n",
        "def linear_layer1(x, w, b):\n",
        "    return x @ w + b\n",
        "\n",
        "def linear_layer2(x, w, b):\n",
        "    return x @ w + b\n",
        "\n",
        "def net2(x, w1, w2, b1, b2):\n",
        "    x1 = linear_layer1(x, w1, b1)\n",
        "    x2 = linear_layer2(x1, w2, b2)\n",
        "    return x2\n",
        "\n",
        "linear_w1 = torch.normal(0, 1, size=w1.shape)\n",
        "linear_b1 = torch.zeros(size=b1.shape)\n",
        "linear_w2 = torch.normal(0, 1, size=w3.shape)\n",
        "linear_b2 = torch.zeros(size=b3.shape)\n",
        "\n",
        "net2(t_un_train, linear_w1, linear_w2, linear_b1, linear_b2)"
      ],
      "metadata": {
        "id": "luqZDOFxt1Rk",
        "colab": {
          "base_uri": "https://localhost:8080/"
        },
        "outputId": "f7c6901a-4585-487a-9b8d-adad84c4e121"
      },
      "execution_count": null,
      "outputs": [
        {
          "output_type": "execute_result",
          "data": {
            "text/plain": [
              "tensor([[-6.8197],\n",
              "        [-4.8462],\n",
              "        [-4.6880],\n",
              "        [-2.9727],\n",
              "        [-5.6956],\n",
              "        [-5.0294],\n",
              "        [-4.6547],\n",
              "        [-1.8153]])"
            ]
          },
          "metadata": {},
          "execution_count": 35
        }
      ]
    },
    {
      "cell_type": "code",
      "source": [
        "# Build an equivalent model using a single layer\n",
        "def net3(x, w, b):\n",
        "    return x @ w + b\n",
        "\n",
        "net3(t_un_train, linear_w1 @ linear_w2, torch.tensor([[0]]))"
      ],
      "metadata": {
        "id": "xpWG8eNmUieB",
        "colab": {
          "base_uri": "https://localhost:8080/"
        },
        "outputId": "e6fa1658-8002-4508-9ab3-702311d46641"
      },
      "execution_count": null,
      "outputs": [
        {
          "output_type": "execute_result",
          "data": {
            "text/plain": [
              "tensor([[-6.8197],\n",
              "        [-4.8462],\n",
              "        [-4.6880],\n",
              "        [-2.9727],\n",
              "        [-5.6956],\n",
              "        [-5.0294],\n",
              "        [-4.6547],\n",
              "        [-1.8153]])"
            ]
          },
          "metadata": {},
          "execution_count": 36
        }
      ]
    },
    {
      "cell_type": "markdown",
      "source": [
        "## Loss Function\n",
        "In order to evaluate the performance of the model with a given set of parameter values, we need to introduce an appropriate **loss function**. The function is expected to:\n",
        "- Produce a small positive value or zero if the model's outcome is close to the expected value.\n",
        "- Produce a large positive value if the model's outcome has a large error.\n",
        "- Provides an overall evaluation on all the records.\n",
        "\n",
        "Popular choices for loss functions are:\n",
        "- The mean-squared-error (MSE) function for regression tasks:\n",
        "$$\n",
        "J(\\theta) = \\frac{1}{m}\\sum_{i=1}^{m} (model(x^{(i)}) - y^{(i)})^2\n",
        "$$\n",
        "    - $\\theta$: the set of model parameters\n",
        "    - m: the total number of training records\n",
        "    - $x^{(i)}$: the input attributes of the i-th record\n",
        "    - $y^{(i)}$: the target value of the i-th record\n",
        "- The cross entropy function for classification tasks."
      ],
      "metadata": {
        "id": "QtWgCoTDuIRN"
      }
    },
    {
      "cell_type": "code",
      "source": [
        "# Build a neural network with a single hidden layer for the temperature conversion dataset.\n",
        "# Itiailize its parameters and calculate its MSE loss.\n",
        "\n",
        "def mse_loss(y_true, y_pred):\n",
        "    return torch.mean(y_pred - y_true) ** 2"
      ],
      "metadata": {
        "id": "ujP4R92TvZ-J"
      },
      "execution_count": null,
      "outputs": []
    },
    {
      "cell_type": "code",
      "source": [
        "mse = mse_loss(t_c_train, prediction)\n",
        "print(\"MSE:\", mse)\n",
        "print(\"RMSE:\", torch.sqrt(mse))"
      ],
      "metadata": {
        "id": "SvLkbNJQWp0a",
        "colab": {
          "base_uri": "https://localhost:8080/"
        },
        "outputId": "c8551e3c-a2c8-4357-fd85-1229239039bb"
      },
      "execution_count": null,
      "outputs": [
        {
          "output_type": "stream",
          "name": "stdout",
          "text": [
            "MSE: tensor(151.5977, grad_fn=<PowBackward0>)\n",
            "RMSE: tensor(12.3125, grad_fn=<SqrtBackward0>)\n"
          ]
        }
      ]
    },
    {
      "cell_type": "markdown",
      "source": [
        "## Learning Algorithm\n",
        "\n",
        "Because of the complexity of the neural network model, the most popular way to find good parameter values is via the **gradient descent method**.\n",
        "- The **gradient** of a function is a vector containing the partial derivatives of the function with respect to every variable.\n",
        "- The gradient vector indicates the direction of fastest ascending in the neighborhood.\n",
        "- The gradient descent method modifies the set of parameters **in the opposite direction** to the gradient.\n",
        "\n",
        "Gradient descent with one variable ideally looks like this:\n",
        "\n",
        "<img src=\"https://cdn-images-1.medium.com/max/1600/0*fU8XFt-NCMZGAWND.\" width=\"600\">\n",
        "\n",
        "Gradient descent with two variables ideally looks like this:\n",
        "\n",
        "<img src=\"https://blog.paperspace.com/content/images/2019/09/F1-02.large.jpg\" width=\"600\">\n",
        "\n",
        "Gradient descent is an iterative algorithm for finding the **local minimum** of a differentiable function.\n",
        "- Choose an initial value of $\\hat{\\theta}$ and a **learning rate** $r$.\n",
        "\n",
        "- For each iteration $k$, do:\n",
        "    - For the current value of parameter $\\theta$, calculate the gradient vector $\\frac{\\partial J(\\hat{\\theta})}{\\partial \\theta}$.\n",
        "    - Perform the gradient update:\n",
        "    $$\\hat{\\theta} \\leftarrow \\hat{\\theta} - r\\cdot\\frac{\\partial J(\\hat{\\theta})}{\\partial \\theta}.$$"
      ],
      "metadata": {
        "id": "7GzAW1eOvvdp"
      }
    },
    {
      "cell_type": "code",
      "source": [
        "# Initialize all parameters with random values\n",
        "w1 = torch.randn([1, 5], requires_grad=True) # 1 means 1 input feature, 5 means 5 neurons.\n",
        "b1 = torch.randn([1, 5], requires_grad=True)\n",
        "x1 = layer(t_un_train, w1, b1)\n",
        "# print(x1)\n",
        "\n",
        "w2 = torch.randn([5, 5], requires_grad=True) # first 5 comes from the 5 inputs,\n",
        "                        #  second 5 comes from the size of this layer\n",
        "b2 = torch.randn([1, 5], requires_grad=True)\n",
        "x2 = layer(x1, w2, b2)\n",
        "# print(x2)\n",
        "\n",
        "w3 = torch.randn([5, 1], requires_grad=True)\n",
        "b3 = torch.randn([1, 1], requires_grad=True)\n",
        "x3 = layer(x2, w3, b3)\n",
        "print(x3)\n",
        "\n",
        "prediction = net(t_un_train, w1, w2, w3, b1, b2, b3)\n",
        "print(prediction)"
      ],
      "metadata": {
        "colab": {
          "base_uri": "https://localhost:8080/"
        },
        "id": "O83w1mdB-MEF",
        "outputId": "957fda4c-1d6d-4548-dff5-c6bacf79a99f"
      },
      "execution_count": null,
      "outputs": [
        {
          "output_type": "stream",
          "name": "stdout",
          "text": [
            "tensor([[9.1162],\n",
            "        [6.1226],\n",
            "        [5.8826],\n",
            "        [3.2966],\n",
            "        [7.4110],\n",
            "        [6.4005],\n",
            "        [5.8321],\n",
            "        [2.3226]], grad_fn=<ReluBackward0>)\n",
            "tensor([[9.1162],\n",
            "        [6.1226],\n",
            "        [5.8826],\n",
            "        [3.2966],\n",
            "        [7.4110],\n",
            "        [6.4005],\n",
            "        [5.8321],\n",
            "        [2.3226]], grad_fn=<ReluBackward0>)\n"
          ]
        }
      ]
    },
    {
      "cell_type": "code",
      "source": [
        "mse = mse_loss(t_c_train, prediction)\n",
        "print(\"MSE:\", mse)\n",
        "print(\"RMSE:\", torch.sqrt(mse))"
      ],
      "metadata": {
        "colab": {
          "base_uri": "https://localhost:8080/"
        },
        "id": "qMInx4Lt-12Y",
        "outputId": "7a582484-41dc-4b30-b81c-505e94e0cd8d"
      },
      "execution_count": null,
      "outputs": [
        {
          "output_type": "stream",
          "name": "stdout",
          "text": [
            "MSE: tensor(42.4385, grad_fn=<PowBackward0>)\n",
            "RMSE: tensor(6.5145, grad_fn=<SqrtBackward0>)\n"
          ]
        }
      ]
    },
    {
      "cell_type": "code",
      "source": [
        "# Perform gradient update for the above neural network model.\n",
        "mse.backward()\n",
        "w1, w1.grad"
      ],
      "metadata": {
        "id": "AC1lp36Sw1pp",
        "colab": {
          "base_uri": "https://localhost:8080/"
        },
        "outputId": "a550fec7-4202-4baa-9316-477f52281121"
      },
      "execution_count": null,
      "outputs": [
        {
          "output_type": "execute_result",
          "data": {
            "text/plain": [
              "(tensor([[ 0.7808,  1.5833, -1.6496, -0.8706,  0.6247]],\n",
              "        requires_grad=True),\n",
              " tensor([[  16.3892,  -10.0720,    0.0000,    0.0000, -131.5838]]))"
            ]
          },
          "metadata": {},
          "execution_count": 121
        }
      ]
    },
    {
      "cell_type": "code",
      "source": [
        "learning_rate = 0.001\n",
        "w1 = w1 - learning_rate * w1.grad\n",
        "b1 = b1 - learning_rate * b1.grad\n",
        "w2 = w2 - learning_rate * w2.grad\n",
        "b2 = b2 - learning_rate * b2.grad\n",
        "w3 = w3 - learning_rate * w3.grad\n",
        "b3 = b3 - learning_rate * b3.grad"
      ],
      "metadata": {
        "id": "Sg2AyqNY-7cm"
      },
      "execution_count": null,
      "outputs": []
    },
    {
      "cell_type": "code",
      "source": [
        "w1"
      ],
      "metadata": {
        "colab": {
          "base_uri": "https://localhost:8080/"
        },
        "id": "5kAZcyIM_lX2",
        "outputId": "85c0a706-3bff-418c-a8dd-9debbe2c8e6a"
      },
      "execution_count": null,
      "outputs": [
        {
          "output_type": "execute_result",
          "data": {
            "text/plain": [
              "tensor([[ 0.7644,  1.5934, -1.6496, -0.8706,  0.7563]],\n",
              "       grad_fn=<SubBackward0>)"
            ]
          },
          "metadata": {},
          "execution_count": 123
        }
      ]
    },
    {
      "cell_type": "code",
      "source": [
        "prediction = net(t_un_train, w1, w2, w3, b1, b2, b3)\n",
        "mse = mse_loss(t_c_train, prediction)\n",
        "print(\"MSE:\", mse)\n",
        "print(\"RMSE:\", torch.sqrt(mse))"
      ],
      "metadata": {
        "colab": {
          "base_uri": "https://localhost:8080/"
        },
        "id": "uTnhq4yD_sHD",
        "outputId": "b6e57639-feea-4a3d-b2e9-0be1407eb5a1"
      },
      "execution_count": null,
      "outputs": [
        {
          "output_type": "stream",
          "name": "stdout",
          "text": [
            "MSE: tensor(8.0075, grad_fn=<PowBackward0>)\n",
            "RMSE: tensor(2.8298, grad_fn=<SqrtBackward0>)\n"
          ]
        }
      ]
    },
    {
      "cell_type": "markdown",
      "source": [
        "## Build Neural Networks with PyTorch\n",
        "\n",
        "\n"
      ],
      "metadata": {
        "id": "NIvoiPTnx5-7"
      }
    },
    {
      "cell_type": "markdown",
      "source": [
        "PyTorch offers a `Sequential` class to quickly construct a neural network model from basic layers, including:\n",
        "- `Linear`: linear transformation\n",
        "- `Tanh`: tanh activation\n",
        "- `ReLU`: ReLU activation\n",
        "\n",
        "Once the model is created, we can use its `parameters()` method to inspect the parameters."
      ],
      "metadata": {
        "id": "3lrI1GqZyUzv"
      }
    },
    {
      "cell_type": "code",
      "source": [
        "# Build a neural network with PyTorch\n",
        "import torch.nn as nn\n",
        "import torch.optim as optim\n",
        "\n",
        "seq_model = nn.Sequential(\n",
        "            nn.Linear(1, 5), # Layer 1\n",
        "            nn.ReLU(),\n",
        "            nn.Linear(5, 5), # Layer 2\n",
        "            nn.ReLU(),\n",
        "            nn.Linear(5, 1)) # Layer 3\n",
        "seq_model"
      ],
      "metadata": {
        "id": "_CJNlm_rzYry",
        "colab": {
          "base_uri": "https://localhost:8080/"
        },
        "outputId": "6c950881-cb78-4888-f6e5-ba2d69235c27"
      },
      "execution_count": null,
      "outputs": [
        {
          "output_type": "execute_result",
          "data": {
            "text/plain": [
              "Sequential(\n",
              "  (0): Linear(in_features=1, out_features=5, bias=True)\n",
              "  (1): ReLU()\n",
              "  (2): Linear(in_features=5, out_features=5, bias=True)\n",
              "  (3): ReLU()\n",
              "  (4): Linear(in_features=5, out_features=1, bias=True)\n",
              ")"
            ]
          },
          "metadata": {},
          "execution_count": 45
        }
      ]
    },
    {
      "cell_type": "code",
      "source": [
        "[param.shape for param in seq_model.parameters()]"
      ],
      "metadata": {
        "id": "4UfYf62qz03x",
        "colab": {
          "base_uri": "https://localhost:8080/"
        },
        "outputId": "34d85e58-145a-41b6-b978-4f58a1e96866"
      },
      "execution_count": null,
      "outputs": [
        {
          "output_type": "execute_result",
          "data": {
            "text/plain": [
              "[torch.Size([5, 1]),\n",
              " torch.Size([5]),\n",
              " torch.Size([5, 5]),\n",
              " torch.Size([5]),\n",
              " torch.Size([1, 5]),\n",
              " torch.Size([1])]"
            ]
          },
          "metadata": {},
          "execution_count": 46
        }
      ]
    },
    {
      "cell_type": "code",
      "source": [
        "for name, param in seq_model.named_parameters():\n",
        "    print(name, param.shape)"
      ],
      "metadata": {
        "id": "Asq8GucEz2wK",
        "colab": {
          "base_uri": "https://localhost:8080/"
        },
        "outputId": "e3d70081-23de-45e7-ec50-fbbdd501c53d"
      },
      "execution_count": null,
      "outputs": [
        {
          "output_type": "stream",
          "name": "stdout",
          "text": [
            "0.weight torch.Size([5, 1])\n",
            "0.bias torch.Size([5])\n",
            "2.weight torch.Size([5, 5])\n",
            "2.bias torch.Size([5])\n",
            "4.weight torch.Size([1, 5])\n",
            "4.bias torch.Size([1])\n"
          ]
        }
      ]
    },
    {
      "cell_type": "code",
      "source": [
        "# Build a neural network with named layers\n",
        "from collections import OrderedDict\n",
        "\n",
        "seq_model2 = nn.Sequential(OrderedDict([\n",
        "    ('hidden_linear', nn.Linear(1, 8)),\n",
        "    ('hidden_activation', nn.Tanh()),\n",
        "    ('output_linear', nn.Linear(8, 1))\n",
        "]))\n",
        "\n",
        "seq_model2"
      ],
      "metadata": {
        "id": "M7eqOYWt0N-i",
        "colab": {
          "base_uri": "https://localhost:8080/"
        },
        "outputId": "486357b8-f4ee-43ef-b2b4-6613b0a63560"
      },
      "execution_count": null,
      "outputs": [
        {
          "output_type": "execute_result",
          "data": {
            "text/plain": [
              "Sequential(\n",
              "  (hidden_linear): Linear(in_features=1, out_features=8, bias=True)\n",
              "  (hidden_activation): Tanh()\n",
              "  (output_linear): Linear(in_features=8, out_features=1, bias=True)\n",
              ")"
            ]
          },
          "metadata": {},
          "execution_count": 48
        }
      ]
    },
    {
      "cell_type": "code",
      "source": [
        "for name, param in seq_model2.named_parameters():\n",
        "    print(name, param.shape)"
      ],
      "metadata": {
        "id": "UbJEWbNl0Qr6",
        "colab": {
          "base_uri": "https://localhost:8080/"
        },
        "outputId": "22a5d4f9-2306-47a5-f909-bd8c57ef82f3"
      },
      "execution_count": null,
      "outputs": [
        {
          "output_type": "stream",
          "name": "stdout",
          "text": [
            "hidden_linear.weight torch.Size([8, 1])\n",
            "hidden_linear.bias torch.Size([8])\n",
            "output_linear.weight torch.Size([1, 8])\n",
            "output_linear.bias torch.Size([1])\n"
          ]
        }
      ]
    },
    {
      "cell_type": "code",
      "source": [
        "def training_loop(n_epochs, optimizer, model, loss_fn, t_u_train, t_u_val,\n",
        "                  t_c_train, t_c_val):\n",
        "    for epoch in range(1, n_epochs + 1):\n",
        "        t_p_train = model(t_u_train)\n",
        "        loss_train = loss_fn(t_p_train, t_c_train)\n",
        "\n",
        "        optimizer.zero_grad()\n",
        "        loss_train.backward()\n",
        "        optimizer.step()\n",
        "\n",
        "        if epoch == 1 or epoch % 1000 == 0:\n",
        "            t_p_val = model(t_u_val)\n",
        "            loss_val = loss_fn(t_p_val, t_c_val)\n",
        "            print(f\"Epoch {epoch}, Training loss {loss_train.item():.4f},\"\n",
        "                  f\" Validation loss {loss_val.item():.4f}\")"
      ],
      "metadata": {
        "id": "rIsEwtjA0D1-"
      },
      "execution_count": null,
      "outputs": []
    },
    {
      "cell_type": "code",
      "source": [
        "optimizer = optim.SGD(seq_model.parameters(), lr=0.001)\n",
        "\n",
        "training_loop(\n",
        "    n_epochs = 5000,\n",
        "    optimizer = optimizer,\n",
        "    model = seq_model,\n",
        "    loss_fn = nn.MSELoss(),\n",
        "    t_u_train = t_un_train,\n",
        "    t_u_val = t_un_val,\n",
        "    t_c_train = t_c_train,\n",
        "    t_c_val = t_c_val)"
      ],
      "metadata": {
        "id": "9CsifKTYz4yn",
        "colab": {
          "base_uri": "https://localhost:8080/"
        },
        "outputId": "cc313b60-5b9d-467c-8d07-e8675601aa3c"
      },
      "execution_count": null,
      "outputs": [
        {
          "output_type": "stream",
          "name": "stdout",
          "text": [
            "Epoch 1, Training loss 260.3239, Validation loss 34.9447\n",
            "Epoch 1000, Training loss 3.3753, Validation loss 5.9374\n",
            "Epoch 2000, Training loss 2.3197, Validation loss 6.0253\n",
            "Epoch 3000, Training loss 2.0105, Validation loss 5.9986\n",
            "Epoch 4000, Training loss 1.8208, Validation loss 6.0493\n",
            "Epoch 5000, Training loss 1.7065, Validation loss 6.0241\n"
          ]
        }
      ]
    },
    {
      "cell_type": "code",
      "source": [
        "for name, param in seq_model.named_parameters():\n",
        "    print(name, param.shape)\n",
        "    print(param.grad)"
      ],
      "metadata": {
        "colab": {
          "base_uri": "https://localhost:8080/"
        },
        "id": "EneLwpFAz1kg",
        "outputId": "be809981-5ef8-4213-ceb7-55b24eed2465"
      },
      "execution_count": null,
      "outputs": [
        {
          "output_type": "stream",
          "name": "stdout",
          "text": [
            "0.weight torch.Size([5, 1])\n",
            "tensor([[-0.0004],\n",
            "        [ 0.0014],\n",
            "        [ 0.0006],\n",
            "        [ 0.0000],\n",
            "        [-0.0172]])\n",
            "0.bias torch.Size([5])\n",
            "tensor([ 1.3858e-06, -1.6814e-04,  1.4772e-03,  0.0000e+00, -1.3735e-02])\n",
            "2.weight torch.Size([5, 5])\n",
            "tensor([[ 1.3262e-06,  1.0482e-06,  0.0000e+00,  0.0000e+00,  3.3353e-06],\n",
            "        [ 1.0015e-05,  7.9154e-06,  0.0000e+00,  0.0000e+00,  2.5187e-05],\n",
            "        [ 1.5569e-02, -1.2152e-02,  1.6415e-02,  0.0000e+00, -1.0221e-02],\n",
            "        [-8.0292e-03,  7.5530e-03, -9.3780e-03,  0.0000e+00,  7.8678e-03],\n",
            "        [ 0.0000e+00,  0.0000e+00,  0.0000e+00,  0.0000e+00,  0.0000e+00]])\n",
            "2.bias torch.Size([5])\n",
            "tensor([ 4.5642e-07,  3.4468e-06,  1.3765e-02, -7.5410e-03,  0.0000e+00])\n",
            "4.weight torch.Size([1, 5])\n",
            "tensor([[-8.7760e-07, -1.1012e-06, -2.6957e-02,  1.6529e-02,  0.0000e+00]])\n",
            "4.bias torch.Size([1])\n",
            "tensor([0.2933])\n"
          ]
        }
      ]
    },
    {
      "cell_type": "code",
      "source": [
        "# Compare the target outcome in the test set and the model's predictions\n",
        "print('predictions', seq_model(t_un_val))\n",
        "print('true target values:', t_c_val)"
      ],
      "metadata": {
        "colab": {
          "base_uri": "https://localhost:8080/"
        },
        "id": "GfRIIHco0rSE",
        "outputId": "91fb329b-542d-4473-d2de-c77b71ef5a05"
      },
      "execution_count": null,
      "outputs": [
        {
          "output_type": "stream",
          "name": "stdout",
          "text": [
            "predictions tensor([[ 7.9902],\n",
            "        [ 7.6628],\n",
            "        [-0.5820]], grad_fn=<AddmmBackward0>)\n",
            "true target values: tensor([[8.],\n",
            "        [6.],\n",
            "        [3.]])\n"
          ]
        }
      ]
    },
    {
      "cell_type": "code",
      "source": [
        "from matplotlib import pyplot as plt\n",
        "\n",
        "t_range = torch.arange(20., 90.).unsqueeze(1)\n",
        "\n",
        "fig = plt.figure(figsize=(5, 5))\n",
        "plt.xlabel(\"Fahrenheit\")\n",
        "plt.ylabel(\"Celsius\")\n",
        "plt.plot(t_u.numpy(), t_c.numpy(), 'o')\n",
        "plt.plot(t_range.numpy(), seq_model(0.1 * t_range).detach().numpy(), 'c-')\n",
        "plt.plot(t_u.numpy(), seq_model(0.1 * t_u).detach().numpy(), 'kx')"
      ],
      "metadata": {
        "id": "1mx5lPQRz8A3",
        "colab": {
          "base_uri": "https://localhost:8080/",
          "height": 482
        },
        "outputId": "26921e44-8809-4fe3-cece-8b17c618c643"
      },
      "execution_count": null,
      "outputs": [
        {
          "output_type": "execute_result",
          "data": {
            "text/plain": [
              "[<matplotlib.lines.Line2D at 0x7952d904d210>]"
            ]
          },
          "metadata": {},
          "execution_count": 22
        },
        {
          "output_type": "display_data",
          "data": {
            "text/plain": [
              "<Figure size 500x500 with 1 Axes>"
            ],
            "image/png": "[encoded data removed]"
          },
          "metadata": {}
        }
      ]
    },
    {
      "cell_type": "markdown",
      "source": [
        "PyTorch has a whole submodule dedicated to neural networks called `torch.nn`. It contains:\n",
        "- `nn.Module`: the base class representing a neural network\n",
        "- `nn.Linear`: the class representing a linear transformation\n",
        "- `nn.ReLU`: the class representing a ReLU activation function\n",
        "- `nn.MSELoss`: the class representing an MSE loss function\n",
        "\n",
        "PyTorch also offers several practival variants of the gradient descent method, as we have seen last week."
      ],
      "metadata": {
        "id": "dVnf8t0k0Vaj"
      }
    },
    {
      "cell_type": "code",
      "source": [
        "class NeuralNet(nn.Module):\n",
        "\n",
        "    def __init__(self): # the constructor of neural network\n",
        "        super().__init__()\n",
        "\n",
        "        self.linear1 = nn.Linear(1, 5)\n",
        "        self.linear2 = nn.Linear(5, 5)\n",
        "        self.linear3 = nn.Linear(5, 1)\n",
        "        self.activation1 = nn.ReLU()\n",
        "        self.activation2 = nn.ReLU()\n",
        "\n",
        "    def forward(self, x): # specify how the model turns inputs to outputs\n",
        "        x = self.linear1(x)\n",
        "        x = self.activation1(x)\n",
        "        x = self.linear2(x)\n",
        "        x = self.activation2(x)\n",
        "        y = self.linear3(x)\n",
        "        return y"
      ],
      "metadata": {
        "id": "sOKAxUPwyTER"
      },
      "execution_count": null,
      "outputs": []
    },
    {
      "cell_type": "code",
      "source": [
        "model = NeuralNet()"
      ],
      "metadata": {
        "id": "xMV-b6zk3T5a"
      },
      "execution_count": null,
      "outputs": []
    },
    {
      "cell_type": "code",
      "source": [
        "opt = optim.SGD(model.parameters(), lr=0.001)\n",
        "loss_func = nn.MSELoss()"
      ],
      "metadata": {
        "id": "o9v5--Gc3XHW"
      },
      "execution_count": null,
      "outputs": []
    },
    {
      "cell_type": "code",
      "source": [
        "def train_model(model, loss_func, opt, x_train, y_train, n_epochs):\n",
        "    for epoch in range(n_epochs):\n",
        "\n",
        "        predictions = model(x_train)\n",
        "        loss = loss_func(predictions, y_train)\n",
        "        opt.zero_grad()\n",
        "        loss.backward()\n",
        "        opt.step()\n",
        "\n",
        "        if epoch == 0 or (epoch + 1) % 1000 == 0:\n",
        "            print(\"Epoch:\", epoch, \"Loss:\", loss.detach().numpy())"
      ],
      "metadata": {
        "id": "AKIKmv1g3oii"
      },
      "execution_count": null,
      "outputs": []
    },
    {
      "cell_type": "code",
      "source": [
        "train_model(model, loss_func, opt, t_un_train, t_c_train, 5000)"
      ],
      "metadata": {
        "id": "Adag81hA4FYl",
        "colab": {
          "base_uri": "https://localhost:8080/"
        },
        "outputId": "8e2b9ca7-a1bd-4581-f819-89891ac58325"
      },
      "execution_count": null,
      "outputs": [
        {
          "output_type": "stream",
          "name": "stdout",
          "text": [
            "Epoch: 0 Loss: 237.74773\n",
            "Epoch: 999 Loss: 2.874415\n",
            "Epoch: 1999 Loss: 2.010684\n",
            "Epoch: 2999 Loss: 1.829395\n",
            "Epoch: 3999 Loss: 1.7194527\n",
            "Epoch: 4999 Loss: 1.6524658\n"
          ]
        }
      ]
    },
    {
      "cell_type": "code",
      "source": [
        "print('predictions', model(t_un_val))\n",
        "print('true target values:', t_c_val)"
      ],
      "metadata": {
        "colab": {
          "base_uri": "https://localhost:8080/"
        },
        "id": "ludSQTUh5byh",
        "outputId": "bbed63a4-7158-492a-bb13-63ebc2c35c85"
      },
      "execution_count": null,
      "outputs": [
        {
          "output_type": "stream",
          "name": "stdout",
          "text": [
            "predictions tensor([[ 8.2468],\n",
            "        [ 7.9464],\n",
            "        [-0.7660]], grad_fn=<AddmmBackward0>)\n",
            "true target values: tensor([[8.],\n",
            "        [6.],\n",
            "        [3.]])\n"
          ]
        }
      ]
    },
    {
      "cell_type": "code",
      "source": [],
      "metadata": {
        "id": "ttDJD9tk7EDE"
      },
      "execution_count": null,
      "outputs": []
    }
  ]
}